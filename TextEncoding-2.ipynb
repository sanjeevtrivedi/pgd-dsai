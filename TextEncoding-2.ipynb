{
  "nbformat": 4,
  "nbformat_minor": 0,
  "metadata": {
    "colab": {
      "provenance": [],
      "include_colab_link": true
    },
    "kernelspec": {
      "name": "python3",
      "display_name": "Python 3"
    },
    "language_info": {
      "name": "python"
    }
  },
  "cells": [
    {
      "cell_type": "markdown",
      "metadata": {
        "id": "view-in-github",
        "colab_type": "text"
      },
      "source": [
        "<a href=\"https://colab.research.google.com/github/sanjeevtrivedi/pgd-dsai/blob/main/TextEncoding-2.ipynb\" target=\"_parent\"><img src=\"https://colab.research.google.com/assets/colab-badge.svg\" alt=\"Open In Colab\"/></a>"
      ]
    },
    {
      "cell_type": "markdown",
      "source": [
        "You’re developing an NLP pipeline that analyzes customer feedback. You need to prepare the text for machine learning models by applying various text encoding techniques and comparing their representations.\n",
        "\n",
        "\n"
      ],
      "metadata": {
        "id": "qFlUbrZW4UNY"
      }
    },
    {
      "cell_type": "code",
      "source": [
        "expanded_reviews = [\n",
        "    \"\"\"One of the standout features of this phone, without a doubt, is its exceptional camera quality. From the moment I started using it, I was impressed by how vividly it captures colors and details, even in low-light environments. The image stabilization and auto-focus are precise, enabling me to take crisp photos effortlessly. The portrait mode delivers professional-looking shots with beautiful background blur, and the wide-angle lens adds versatility for landscape and group photography. For someone who enjoys documenting moments on the go, the quality rivals even some dedicated digital cameras. It's not just about still photos either—the video recording capabilities are equally impressive, with smooth 4K resolution and effective sound pickup. Overall, the camera alone makes this device a worthwhile purchase for photography lovers and casual users alike.\"\"\",\n",
        "\n",
        "    \"\"\"Battery life is one of the most disappointing aspects of this phone. Despite moderate usage that includes occasional browsing, social media checks, and streaming a few videos, the phone barely makes it through the day without needing a recharge. This is especially frustrating because I rely on my phone for work, and having to constantly monitor battery levels or carry around a power bank defeats the purpose of having a modern smartphone. What's more, the battery seems to drain faster when using apps that shouldn't be that demanding. Even overnight, the phone loses a noticeable percentage of charge in standby mode, suggesting poor optimization. I expected better performance for the price, and unfortunately, the battery issues overshadow some of the device’s better qualities.\"\"\",\n",
        "\n",
        "    \"\"\"The display on this phone is absolutely stunning, and it truly enhances the overall user experience. Whether I'm watching high-definition videos, reading articles, or simply browsing through my apps, the screen remains vibrant and crystal clear. The brightness levels are impressive—it remains perfectly readable even under direct sunlight, which is something I struggled with on previous devices. The colors are rich and accurate, making media consumption an absolute joy. The high resolution ensures text is sharp and photos appear detailed. Additionally, the smooth refresh rate makes scrolling and animations feel fluid and responsive. Whether you're a casual user or someone who enjoys streaming and gaming on their phone, the quality of this screen stands out as a major plus. It’s clear the display was designed with great attention to detail and user comfort in mind.\"\"\",\n",
        "\n",
        "    \"\"\"While the phone itself has its merits, the experience with customer service has been extremely frustrating and disheartening. When I encountered a technical issue early on, I expected prompt and professional support. Unfortunately, what I received was a series of unhelpful responses, long wait times, and multiple transfers between departments. The representatives seemed ill-equipped to handle even basic troubleshooting, and at times, I felt like I was being given the runaround rather than genuine assistance. After several calls and emails, my issue remained unresolved, and I was left feeling abandoned by a company I had trusted. Customer service plays a crucial role in overall satisfaction, and in this case, it severely undermined my confidence in the brand. A great product means little when the support behind it falls so short of expectations.\"\"\",\n",
        "\n",
        "    \"\"\"From the moment I unboxed this phone, I’ve been nothing short of thrilled with my decision to buy it. The sleek design, intuitive interface, and powerful performance all come together to create a device that feels premium and reliable. Setting it up was a breeze, and everything—from transferring my data to personalizing settings—worked seamlessly. What truly stands out is how balanced the phone feels across various functions. Whether I’m using it for work, entertainment, or communication, it handles every task smoothly. The battery life, display, and speed all meet or exceed expectations, making this purchase one of the most satisfying tech investments I've made in recent years. It's rare to find a device that feels this polished and user-focused. I would happily recommend it to friends, family, or anyone looking for a dependable smartphone.\"\"\"\n",
        "]\n"
      ],
      "metadata": {
        "id": "ocIitEfq4VVL"
      },
      "execution_count": null,
      "outputs": []
    },
    {
      "cell_type": "markdown",
      "source": [],
      "metadata": {
        "id": "X_foL73u6iDa"
      }
    },
    {
      "cell_type": "code",
      "source": [
        "import nltk\n",
        "import re\n",
        "from nltk.corpus import stopwords\n",
        "from nltk.stem import PorterStemmer, WordNetLemmatizer\n",
        "\n",
        "# Download necessary NLTK resources\n",
        "nltk.download('punkt')\n",
        "nltk.download('stopwords')\n",
        "nltk.download('wordnet')\n",
        "nltk.download('punkt_tab') # Download the punkt_tab data\n",
        "\n"
      ],
      "metadata": {
        "colab": {
          "base_uri": "https://localhost:8080/"
        },
        "id": "bWc96n506qhx",
        "outputId": "93482c35-bea5-41e9-e6d8-3aa822581a40"
      },
      "execution_count": null,
      "outputs": [
        {
          "output_type": "stream",
          "name": "stderr",
          "text": [
            "[nltk_data] Downloading package punkt to /root/nltk_data...\n",
            "[nltk_data]   Package punkt is already up-to-date!\n",
            "[nltk_data] Downloading package stopwords to /root/nltk_data...\n",
            "[nltk_data]   Package stopwords is already up-to-date!\n",
            "[nltk_data] Downloading package wordnet to /root/nltk_data...\n",
            "[nltk_data]   Package wordnet is already up-to-date!\n",
            "[nltk_data] Downloading package punkt_tab to /root/nltk_data...\n",
            "[nltk_data]   Package punkt_tab is already up-to-date!\n"
          ]
        },
        {
          "output_type": "execute_result",
          "data": {
            "text/plain": [
              "True"
            ]
          },
          "metadata": {},
          "execution_count": 10
        }
      ]
    },
    {
      "cell_type": "code",
      "source": [
        "def preprocess_text(text):\n",
        "    # Convert to lowercase\n",
        "    text = text.lower()\n",
        "\n",
        "    # Remove punctuation and special characters\n",
        "    text = re.sub(r'[^\\w\\s]', '', text)\n",
        "\n",
        "    # Tokenize the text\n",
        "    tokens = nltk.word_tokenize(text)\n",
        "\n",
        "    # Remove stop words\n",
        "    stop_words = set(stopwords.words('english'))\n",
        "    tokens = [word for word in tokens if word not in stop_words]\n",
        "\n",
        "    # Stemming\n",
        "    stemmer = PorterStemmer()\n",
        "    stemmed_tokens = [stemmer.stem(word) for word in tokens]\n",
        "\n",
        "    # Lemmatization\n",
        "    lemmatizer = WordNetLemmatizer()\n",
        "    lemmatized_tokens = [lemmatizer.lemmatize(word) for word in stemmed_tokens]\n",
        "\n",
        "    return \" \".join(lemmatized_tokens)\n",
        "\n",
        "\n",
        "\n",
        "preprocessed_reviews = [preprocess_text(review) for review in expanded_reviews]\n",
        "preprocessed_reviews"
      ],
      "metadata": {
        "colab": {
          "base_uri": "https://localhost:8080/"
        },
        "id": "Hc4nsOczyKKa",
        "outputId": "6f30042b-1199-43c2-cc38-50a328cd7223"
      },
      "execution_count": null,
      "outputs": [
        {
          "output_type": "execute_result",
          "data": {
            "text/plain": [
              "['one standout featur phone without doubt except camera qualiti moment start use impress vividli captur color detail even lowlight environ imag stabil autofocu precis enabl take crisp photo effortlessli portrait mode deliv professionallook shot beauti background blur wideangl len add versatil landscap group photographi someon enjoy document moment go qualiti rival even dedic digit camera still photo eitherth video record capabl equal impress smooth 4k resolut effect sound pickup overal camera alon make devic worthwhil purchas photographi lover casual user alik',\n",
              " 'batteri life one disappoint aspect phone despit moder usag includ occasion brow social medium check stream video phone bare make day without need recharg especi frustrat reli phone work constantli monitor batteri level carri around power bank defeat purpos modern smartphon what batteri seem drain faster use app shouldnt demand even overnight phone lose notic percentag charg standbi mode suggest poor optim expect better perform price unfortun batteri issu overshadow devic better qualiti',\n",
              " 'display phone absolut stun truli enhanc overal user experi whether im watch highdefinit video read articl simpli brow app screen remain vibrant crystal clear bright level impressiveit remain perfectli readabl even direct sunlight someth struggl previou devic color rich accur make medium consumpt absolut joy high resolut ensur text sharp photo appear detail addit smooth refresh rate make scroll anim feel fluid respons whether your casual user someon enjoy stream game phone qualiti screen stand major plu clear display design great attent detail user comfort mind',\n",
              " 'phone merit experi custom servic extrem frustrat dishearten encount technic issu earli expect prompt profession support unfortun receiv seri unhelp respons long wait time multipl transfer depart repres seem illequip handl even basic troubleshoot time felt like given runaround rather genuin assist sever call email issu remain unresolv left feel abandon compani trust custom servic play crucial role overal satisfact case sever undermin confid brand great product mean littl support behind fall short expect',\n",
              " 'moment unbox phone ive noth short thrill decis buy sleek design intuit interfac power perform come togeth creat devic feel premium reliabl set breez everythingfrom transfer data person settingswork seamlessli truli stand balanc phone feel across variou function whether im use work entertain commun handl everi task smoothli batteri life display speed meet exceed expect make purchas one satisfi tech invest ive made recent year rare find devic feel polish userfocus would happili recommend friend famili anyon look depend smartphon']"
            ]
          },
          "metadata": {},
          "execution_count": 11
        }
      ]
    },
    {
      "cell_type": "code",
      "source": [
        "# prompt: create a function for one hot encoding of text to vector\n",
        "\n",
        "from sklearn.feature_extraction.text import CountVectorizer\n",
        "\n",
        "def one_hot_encode(preprocessed_reviews):\n",
        "    vectorizer = CountVectorizer(binary=True) # binary=True for one-hot encoding\n",
        "    one_hot_matrix = vectorizer.fit_transform(preprocessed_reviews)\n",
        "    return one_hot_matrix, vectorizer\n"
      ],
      "metadata": {
        "id": "H_9CPcxt7HQC"
      },
      "execution_count": null,
      "outputs": []
    },
    {
      "cell_type": "code",
      "source": [
        "# prompt: Utilize the function for converting each text from preprocessed text to vector and create a dataframe\n",
        "\n",
        "import pandas as pd\n",
        "\n",
        "one_hot_matrix, vectorizer = one_hot_encode(preprocessed_reviews)\n",
        "\n",
        "# Create a DataFrame from the one-hot encoded matrix\n",
        "one_hot_df = pd.DataFrame(one_hot_matrix.toarray(), columns=vectorizer.get_feature_names_out())\n",
        "\n",
        "one_hot_df\n"
      ],
      "metadata": {
        "colab": {
          "base_uri": "https://localhost:8080/",
          "height": 255
        },
        "id": "4GD8Nj_t8ujN",
        "outputId": "23c97ffa-f23d-41e8-f127-2e1af48f1314"
      },
      "execution_count": null,
      "outputs": [
        {
          "output_type": "execute_result",
          "data": {
            "text/plain": [
              "   4k  abandon  absolut  accur  across  add  addit  alik  alon  anim  ...  \\\n",
              "0   1        0        0      0       0    1      0     1     1     0  ...   \n",
              "1   0        0        0      0       0    0      0     0     0     0  ...   \n",
              "2   0        0        1      1       0    0      1     0     0     1  ...   \n",
              "3   0        1        0      0       0    0      0     0     0     0  ...   \n",
              "4   0        0        0      0       1    0      0     0     0     0  ...   \n",
              "\n",
              "   watch  what  whether  wideangl  without  work  worthwhil  would  year  your  \n",
              "0      0     0        0         1        1     0          1      0     0     0  \n",
              "1      0     1        0         0        1     1          0      0     0     0  \n",
              "2      1     0        1         0        0     0          0      0     0     1  \n",
              "3      0     0        0         0        0     0          0      0     0     0  \n",
              "4      0     0        1         0        0     1          0      1     1     0  \n",
              "\n",
              "[5 rows x 288 columns]"
            ],
            "text/html": [
              "\n",
              "  <div id=\"df-80bd2da2-2c7a-44d0-af99-403274242d77\" class=\"colab-df-container\">\n",
              "    <div>\n",
              "<style scoped>\n",
              "    .dataframe tbody tr th:only-of-type {\n",
              "        vertical-align: middle;\n",
              "    }\n",
              "\n",
              "    .dataframe tbody tr th {\n",
              "        vertical-align: top;\n",
              "    }\n",
              "\n",
              "    .dataframe thead th {\n",
              "        text-align: right;\n",
              "    }\n",
              "</style>\n",
              "<table border=\"1\" class=\"dataframe\">\n",
              "  <thead>\n",
              "    <tr style=\"text-align: right;\">\n",
              "      <th></th>\n",
              "      <th>4k</th>\n",
              "      <th>abandon</th>\n",
              "      <th>absolut</th>\n",
              "      <th>accur</th>\n",
              "      <th>across</th>\n",
              "      <th>add</th>\n",
              "      <th>addit</th>\n",
              "      <th>alik</th>\n",
              "      <th>alon</th>\n",
              "      <th>anim</th>\n",
              "      <th>...</th>\n",
              "      <th>watch</th>\n",
              "      <th>what</th>\n",
              "      <th>whether</th>\n",
              "      <th>wideangl</th>\n",
              "      <th>without</th>\n",
              "      <th>work</th>\n",
              "      <th>worthwhil</th>\n",
              "      <th>would</th>\n",
              "      <th>year</th>\n",
              "      <th>your</th>\n",
              "    </tr>\n",
              "  </thead>\n",
              "  <tbody>\n",
              "    <tr>\n",
              "      <th>0</th>\n",
              "      <td>1</td>\n",
              "      <td>0</td>\n",
              "      <td>0</td>\n",
              "      <td>0</td>\n",
              "      <td>0</td>\n",
              "      <td>1</td>\n",
              "      <td>0</td>\n",
              "      <td>1</td>\n",
              "      <td>1</td>\n",
              "      <td>0</td>\n",
              "      <td>...</td>\n",
              "      <td>0</td>\n",
              "      <td>0</td>\n",
              "      <td>0</td>\n",
              "      <td>1</td>\n",
              "      <td>1</td>\n",
              "      <td>0</td>\n",
              "      <td>1</td>\n",
              "      <td>0</td>\n",
              "      <td>0</td>\n",
              "      <td>0</td>\n",
              "    </tr>\n",
              "    <tr>\n",
              "      <th>1</th>\n",
              "      <td>0</td>\n",
              "      <td>0</td>\n",
              "      <td>0</td>\n",
              "      <td>0</td>\n",
              "      <td>0</td>\n",
              "      <td>0</td>\n",
              "      <td>0</td>\n",
              "      <td>0</td>\n",
              "      <td>0</td>\n",
              "      <td>0</td>\n",
              "      <td>...</td>\n",
              "      <td>0</td>\n",
              "      <td>1</td>\n",
              "      <td>0</td>\n",
              "      <td>0</td>\n",
              "      <td>1</td>\n",
              "      <td>1</td>\n",
              "      <td>0</td>\n",
              "      <td>0</td>\n",
              "      <td>0</td>\n",
              "      <td>0</td>\n",
              "    </tr>\n",
              "    <tr>\n",
              "      <th>2</th>\n",
              "      <td>0</td>\n",
              "      <td>0</td>\n",
              "      <td>1</td>\n",
              "      <td>1</td>\n",
              "      <td>0</td>\n",
              "      <td>0</td>\n",
              "      <td>1</td>\n",
              "      <td>0</td>\n",
              "      <td>0</td>\n",
              "      <td>1</td>\n",
              "      <td>...</td>\n",
              "      <td>1</td>\n",
              "      <td>0</td>\n",
              "      <td>1</td>\n",
              "      <td>0</td>\n",
              "      <td>0</td>\n",
              "      <td>0</td>\n",
              "      <td>0</td>\n",
              "      <td>0</td>\n",
              "      <td>0</td>\n",
              "      <td>1</td>\n",
              "    </tr>\n",
              "    <tr>\n",
              "      <th>3</th>\n",
              "      <td>0</td>\n",
              "      <td>1</td>\n",
              "      <td>0</td>\n",
              "      <td>0</td>\n",
              "      <td>0</td>\n",
              "      <td>0</td>\n",
              "      <td>0</td>\n",
              "      <td>0</td>\n",
              "      <td>0</td>\n",
              "      <td>0</td>\n",
              "      <td>...</td>\n",
              "      <td>0</td>\n",
              "      <td>0</td>\n",
              "      <td>0</td>\n",
              "      <td>0</td>\n",
              "      <td>0</td>\n",
              "      <td>0</td>\n",
              "      <td>0</td>\n",
              "      <td>0</td>\n",
              "      <td>0</td>\n",
              "      <td>0</td>\n",
              "    </tr>\n",
              "    <tr>\n",
              "      <th>4</th>\n",
              "      <td>0</td>\n",
              "      <td>0</td>\n",
              "      <td>0</td>\n",
              "      <td>0</td>\n",
              "      <td>1</td>\n",
              "      <td>0</td>\n",
              "      <td>0</td>\n",
              "      <td>0</td>\n",
              "      <td>0</td>\n",
              "      <td>0</td>\n",
              "      <td>...</td>\n",
              "      <td>0</td>\n",
              "      <td>0</td>\n",
              "      <td>1</td>\n",
              "      <td>0</td>\n",
              "      <td>0</td>\n",
              "      <td>1</td>\n",
              "      <td>0</td>\n",
              "      <td>1</td>\n",
              "      <td>1</td>\n",
              "      <td>0</td>\n",
              "    </tr>\n",
              "  </tbody>\n",
              "</table>\n",
              "<p>5 rows × 288 columns</p>\n",
              "</div>\n",
              "    <div class=\"colab-df-buttons\">\n",
              "\n",
              "  <div class=\"colab-df-container\">\n",
              "    <button class=\"colab-df-convert\" onclick=\"convertToInteractive('df-80bd2da2-2c7a-44d0-af99-403274242d77')\"\n",
              "            title=\"Convert this dataframe to an interactive table.\"\n",
              "            style=\"display:none;\">\n",
              "\n",
              "  <svg xmlns=\"http://www.w3.org/2000/svg\" height=\"24px\" viewBox=\"0 -960 960 960\">\n",
              "    <path d=\"M120-120v-720h720v720H120Zm60-500h600v-160H180v160Zm220 220h160v-160H400v160Zm0 220h160v-160H400v160ZM180-400h160v-160H180v160Zm440 0h160v-160H620v160ZM180-180h160v-160H180v160Zm440 0h160v-160H620v160Z\"/>\n",
              "  </svg>\n",
              "    </button>\n",
              "\n",
              "  <style>\n",
              "    .colab-df-container {\n",
              "      display:flex;\n",
              "      gap: 12px;\n",
              "    }\n",
              "\n",
              "    .colab-df-convert {\n",
              "      background-color: #E8F0FE;\n",
              "      border: none;\n",
              "      border-radius: 50%;\n",
              "      cursor: pointer;\n",
              "      display: none;\n",
              "      fill: #1967D2;\n",
              "      height: 32px;\n",
              "      padding: 0 0 0 0;\n",
              "      width: 32px;\n",
              "    }\n",
              "\n",
              "    .colab-df-convert:hover {\n",
              "      background-color: #E2EBFA;\n",
              "      box-shadow: 0px 1px 2px rgba(60, 64, 67, 0.3), 0px 1px 3px 1px rgba(60, 64, 67, 0.15);\n",
              "      fill: #174EA6;\n",
              "    }\n",
              "\n",
              "    .colab-df-buttons div {\n",
              "      margin-bottom: 4px;\n",
              "    }\n",
              "\n",
              "    [theme=dark] .colab-df-convert {\n",
              "      background-color: #3B4455;\n",
              "      fill: #D2E3FC;\n",
              "    }\n",
              "\n",
              "    [theme=dark] .colab-df-convert:hover {\n",
              "      background-color: #434B5C;\n",
              "      box-shadow: 0px 1px 3px 1px rgba(0, 0, 0, 0.15);\n",
              "      filter: drop-shadow(0px 1px 2px rgba(0, 0, 0, 0.3));\n",
              "      fill: #FFFFFF;\n",
              "    }\n",
              "  </style>\n",
              "\n",
              "    <script>\n",
              "      const buttonEl =\n",
              "        document.querySelector('#df-80bd2da2-2c7a-44d0-af99-403274242d77 button.colab-df-convert');\n",
              "      buttonEl.style.display =\n",
              "        google.colab.kernel.accessAllowed ? 'block' : 'none';\n",
              "\n",
              "      async function convertToInteractive(key) {\n",
              "        const element = document.querySelector('#df-80bd2da2-2c7a-44d0-af99-403274242d77');\n",
              "        const dataTable =\n",
              "          await google.colab.kernel.invokeFunction('convertToInteractive',\n",
              "                                                    [key], {});\n",
              "        if (!dataTable) return;\n",
              "\n",
              "        const docLinkHtml = 'Like what you see? Visit the ' +\n",
              "          '<a target=\"_blank\" href=https://colab.research.google.com/notebooks/data_table.ipynb>data table notebook</a>'\n",
              "          + ' to learn more about interactive tables.';\n",
              "        element.innerHTML = '';\n",
              "        dataTable['output_type'] = 'display_data';\n",
              "        await google.colab.output.renderOutput(dataTable, element);\n",
              "        const docLink = document.createElement('div');\n",
              "        docLink.innerHTML = docLinkHtml;\n",
              "        element.appendChild(docLink);\n",
              "      }\n",
              "    </script>\n",
              "  </div>\n",
              "\n",
              "\n",
              "    <div id=\"df-626ef983-1dde-42f1-a597-2246c3cd6c2a\">\n",
              "      <button class=\"colab-df-quickchart\" onclick=\"quickchart('df-626ef983-1dde-42f1-a597-2246c3cd6c2a')\"\n",
              "                title=\"Suggest charts\"\n",
              "                style=\"display:none;\">\n",
              "\n",
              "<svg xmlns=\"http://www.w3.org/2000/svg\" height=\"24px\"viewBox=\"0 0 24 24\"\n",
              "     width=\"24px\">\n",
              "    <g>\n",
              "        <path d=\"M19 3H5c-1.1 0-2 .9-2 2v14c0 1.1.9 2 2 2h14c1.1 0 2-.9 2-2V5c0-1.1-.9-2-2-2zM9 17H7v-7h2v7zm4 0h-2V7h2v10zm4 0h-2v-4h2v4z\"/>\n",
              "    </g>\n",
              "</svg>\n",
              "      </button>\n",
              "\n",
              "<style>\n",
              "  .colab-df-quickchart {\n",
              "      --bg-color: #E8F0FE;\n",
              "      --fill-color: #1967D2;\n",
              "      --hover-bg-color: #E2EBFA;\n",
              "      --hover-fill-color: #174EA6;\n",
              "      --disabled-fill-color: #AAA;\n",
              "      --disabled-bg-color: #DDD;\n",
              "  }\n",
              "\n",
              "  [theme=dark] .colab-df-quickchart {\n",
              "      --bg-color: #3B4455;\n",
              "      --fill-color: #D2E3FC;\n",
              "      --hover-bg-color: #434B5C;\n",
              "      --hover-fill-color: #FFFFFF;\n",
              "      --disabled-bg-color: #3B4455;\n",
              "      --disabled-fill-color: #666;\n",
              "  }\n",
              "\n",
              "  .colab-df-quickchart {\n",
              "    background-color: var(--bg-color);\n",
              "    border: none;\n",
              "    border-radius: 50%;\n",
              "    cursor: pointer;\n",
              "    display: none;\n",
              "    fill: var(--fill-color);\n",
              "    height: 32px;\n",
              "    padding: 0;\n",
              "    width: 32px;\n",
              "  }\n",
              "\n",
              "  .colab-df-quickchart:hover {\n",
              "    background-color: var(--hover-bg-color);\n",
              "    box-shadow: 0 1px 2px rgba(60, 64, 67, 0.3), 0 1px 3px 1px rgba(60, 64, 67, 0.15);\n",
              "    fill: var(--button-hover-fill-color);\n",
              "  }\n",
              "\n",
              "  .colab-df-quickchart-complete:disabled,\n",
              "  .colab-df-quickchart-complete:disabled:hover {\n",
              "    background-color: var(--disabled-bg-color);\n",
              "    fill: var(--disabled-fill-color);\n",
              "    box-shadow: none;\n",
              "  }\n",
              "\n",
              "  .colab-df-spinner {\n",
              "    border: 2px solid var(--fill-color);\n",
              "    border-color: transparent;\n",
              "    border-bottom-color: var(--fill-color);\n",
              "    animation:\n",
              "      spin 1s steps(1) infinite;\n",
              "  }\n",
              "\n",
              "  @keyframes spin {\n",
              "    0% {\n",
              "      border-color: transparent;\n",
              "      border-bottom-color: var(--fill-color);\n",
              "      border-left-color: var(--fill-color);\n",
              "    }\n",
              "    20% {\n",
              "      border-color: transparent;\n",
              "      border-left-color: var(--fill-color);\n",
              "      border-top-color: var(--fill-color);\n",
              "    }\n",
              "    30% {\n",
              "      border-color: transparent;\n",
              "      border-left-color: var(--fill-color);\n",
              "      border-top-color: var(--fill-color);\n",
              "      border-right-color: var(--fill-color);\n",
              "    }\n",
              "    40% {\n",
              "      border-color: transparent;\n",
              "      border-right-color: var(--fill-color);\n",
              "      border-top-color: var(--fill-color);\n",
              "    }\n",
              "    60% {\n",
              "      border-color: transparent;\n",
              "      border-right-color: var(--fill-color);\n",
              "    }\n",
              "    80% {\n",
              "      border-color: transparent;\n",
              "      border-right-color: var(--fill-color);\n",
              "      border-bottom-color: var(--fill-color);\n",
              "    }\n",
              "    90% {\n",
              "      border-color: transparent;\n",
              "      border-bottom-color: var(--fill-color);\n",
              "    }\n",
              "  }\n",
              "</style>\n",
              "\n",
              "      <script>\n",
              "        async function quickchart(key) {\n",
              "          const quickchartButtonEl =\n",
              "            document.querySelector('#' + key + ' button');\n",
              "          quickchartButtonEl.disabled = true;  // To prevent multiple clicks.\n",
              "          quickchartButtonEl.classList.add('colab-df-spinner');\n",
              "          try {\n",
              "            const charts = await google.colab.kernel.invokeFunction(\n",
              "                'suggestCharts', [key], {});\n",
              "          } catch (error) {\n",
              "            console.error('Error during call to suggestCharts:', error);\n",
              "          }\n",
              "          quickchartButtonEl.classList.remove('colab-df-spinner');\n",
              "          quickchartButtonEl.classList.add('colab-df-quickchart-complete');\n",
              "        }\n",
              "        (() => {\n",
              "          let quickchartButtonEl =\n",
              "            document.querySelector('#df-626ef983-1dde-42f1-a597-2246c3cd6c2a button');\n",
              "          quickchartButtonEl.style.display =\n",
              "            google.colab.kernel.accessAllowed ? 'block' : 'none';\n",
              "        })();\n",
              "      </script>\n",
              "    </div>\n",
              "\n",
              "  <div id=\"id_e40249ec-a833-44a7-9079-e5ae8284b6d3\">\n",
              "    <style>\n",
              "      .colab-df-generate {\n",
              "        background-color: #E8F0FE;\n",
              "        border: none;\n",
              "        border-radius: 50%;\n",
              "        cursor: pointer;\n",
              "        display: none;\n",
              "        fill: #1967D2;\n",
              "        height: 32px;\n",
              "        padding: 0 0 0 0;\n",
              "        width: 32px;\n",
              "      }\n",
              "\n",
              "      .colab-df-generate:hover {\n",
              "        background-color: #E2EBFA;\n",
              "        box-shadow: 0px 1px 2px rgba(60, 64, 67, 0.3), 0px 1px 3px 1px rgba(60, 64, 67, 0.15);\n",
              "        fill: #174EA6;\n",
              "      }\n",
              "\n",
              "      [theme=dark] .colab-df-generate {\n",
              "        background-color: #3B4455;\n",
              "        fill: #D2E3FC;\n",
              "      }\n",
              "\n",
              "      [theme=dark] .colab-df-generate:hover {\n",
              "        background-color: #434B5C;\n",
              "        box-shadow: 0px 1px 3px 1px rgba(0, 0, 0, 0.15);\n",
              "        filter: drop-shadow(0px 1px 2px rgba(0, 0, 0, 0.3));\n",
              "        fill: #FFFFFF;\n",
              "      }\n",
              "    </style>\n",
              "    <button class=\"colab-df-generate\" onclick=\"generateWithVariable('one_hot_df')\"\n",
              "            title=\"Generate code using this dataframe.\"\n",
              "            style=\"display:none;\">\n",
              "\n",
              "  <svg xmlns=\"http://www.w3.org/2000/svg\" height=\"24px\"viewBox=\"0 0 24 24\"\n",
              "       width=\"24px\">\n",
              "    <path d=\"M7,19H8.4L18.45,9,17,7.55,7,17.6ZM5,21V16.75L18.45,3.32a2,2,0,0,1,2.83,0l1.4,1.43a1.91,1.91,0,0,1,.58,1.4,1.91,1.91,0,0,1-.58,1.4L9.25,21ZM18.45,9,17,7.55Zm-12,3A5.31,5.31,0,0,0,4.9,8.1,5.31,5.31,0,0,0,1,6.5,5.31,5.31,0,0,0,4.9,4.9,5.31,5.31,0,0,0,6.5,1,5.31,5.31,0,0,0,8.1,4.9,5.31,5.31,0,0,0,12,6.5,5.46,5.46,0,0,0,6.5,12Z\"/>\n",
              "  </svg>\n",
              "    </button>\n",
              "    <script>\n",
              "      (() => {\n",
              "      const buttonEl =\n",
              "        document.querySelector('#id_e40249ec-a833-44a7-9079-e5ae8284b6d3 button.colab-df-generate');\n",
              "      buttonEl.style.display =\n",
              "        google.colab.kernel.accessAllowed ? 'block' : 'none';\n",
              "\n",
              "      buttonEl.onclick = () => {\n",
              "        google.colab.notebook.generateWithVariable('one_hot_df');\n",
              "      }\n",
              "      })();\n",
              "    </script>\n",
              "  </div>\n",
              "\n",
              "    </div>\n",
              "  </div>\n"
            ],
            "application/vnd.google.colaboratory.intrinsic+json": {
              "type": "dataframe",
              "variable_name": "one_hot_df"
            }
          },
          "metadata": {},
          "execution_count": 13
        }
      ]
    },
    {
      "cell_type": "code",
      "source": [
        "# prompt: Compare two encoded text from df_one_hot as cosine similarity\n",
        "\n",
        "import pandas as pd\n",
        "from sklearn.metrics.pairwise import cosine_similarity\n",
        "\n",
        "\n",
        "def compare_encoded_text(df, index1, index2):\n",
        "    \"\"\"\n",
        "    Compares two encoded text representations from a DataFrame using cosine similarity.\n",
        "\n",
        "    Args:\n",
        "        df: The DataFrame containing the encoded text vectors.\n",
        "        index1: The index of the first text vector to compare.\n",
        "        index2: The index of the second text vector to compare.\n",
        "\n",
        "    Returns:\n",
        "        The cosine similarity between the two vectors.\n",
        "    \"\"\"\n",
        "\n",
        "    vector1 = df.iloc[index1].values.reshape(1, -1)  # Reshape to 2D array for cosine_similarity\n",
        "    vector2 = df.iloc[index2].values.reshape(1, -1)\n",
        "    similarity = cosine_similarity(vector1, vector2)[0][0]\n",
        "    return similarity\n",
        "\n"
      ],
      "metadata": {
        "id": "2Kb0C9nt-9c-"
      },
      "execution_count": null,
      "outputs": []
    },
    {
      "cell_type": "code",
      "source": [
        "# prompt: Compare all 5 texts with 0\n",
        "\n",
        "# Assuming 'df_one_hot' and 'compare_encoded_text' are defined from the previous code block\n",
        "\n",
        "# Compare all 5 texts with text at index 0\n",
        "for i in range(5):\n",
        "    similarity = compare_encoded_text(one_hot_df, 0, i)\n",
        "    print(f\"Cosine similarity between text 0 and text {i}: {similarity}\")\n"
      ],
      "metadata": {
        "colab": {
          "base_uri": "https://localhost:8080/"
        },
        "id": "G8Q5bB7sC4yd",
        "outputId": "fa2af07c-15f3-4b2c-b5a0-438b315143a3"
      },
      "execution_count": null,
      "outputs": [
        {
          "output_type": "stream",
          "name": "stdout",
          "text": [
            "Cosine similarity between text 0 and text 0: 1.0\n",
            "Cosine similarity between text 0 and text 1: 0.14406769314303258\n",
            "Cosine similarity between text 0 and text 2: 0.21623596108783544\n",
            "Cosine similarity between text 0 and text 3: 0.04289655575932741\n",
            "Cosine similarity between text 0 and text 4: 0.09460323297592801\n"
          ]
        }
      ]
    },
    {
      "cell_type": "code",
      "source": [
        "new_text = [\"This phone's exceptional camera, with vivid detail, low-light performance, and versatile features, makes it a standout choice for both photography enthusiasts and casual users.\",\n",
        "            \"Despite the phone's strengths, the poor, unresponsive customer service severely damaged trust and overshadowed the overall user experience.\"]\n",
        "new_vector = vectorizer.transform(new_text)\n",
        "similarity_scores = cosine_similarity(new_vector[0], one_hot_df)\n",
        "\n",
        "\n",
        "print(similarity_scores)\n",
        "\n",
        "# Optional: Get index of the most similar document\n",
        "most_similar_index = similarity_scores.argmax()\n",
        "print(most_similar_index)\n",
        "print(\"Most similar document:\", expanded_reviews[most_similar_index])\n",
        "\n",
        "similarity_scores = cosine_similarity(new_vector[1], one_hot_df)\n",
        "\n",
        "\n",
        "print(similarity_scores)\n",
        "\n",
        "# Optional: Get index of the most similar document\n",
        "most_similar_index = similarity_scores.argmax()\n",
        "print(most_similar_index)\n",
        "print(\"Most similar document:\", expanded_reviews[most_similar_index])\n",
        "\n",
        "\n",
        "\n",
        "\n"
      ],
      "metadata": {
        "colab": {
          "base_uri": "https://localhost:8080/"
        },
        "id": "UM4O83iqDc7q",
        "outputId": "a5013bc0-34fb-42fc-a383-5847d98fc425"
      },
      "execution_count": null,
      "outputs": [
        {
          "output_type": "stream",
          "name": "stdout",
          "text": [
            "[[0.26171196 0.05504819 0.15491933 0.05463584 0.05163978]]\n",
            "0\n",
            "Most similar document: One of the standout features of this phone, without a doubt, is its exceptional camera quality. From the moment I started using it, I was impressed by how vividly it captures colors and details, even in low-light environments. The image stabilization and auto-focus are precise, enabling me to take crisp photos effortlessly. The portrait mode delivers professional-looking shots with beautiful background blur, and the wide-angle lens adds versatility for landscape and group photography. For someone who enjoys documenting moments on the go, the quality rivals even some dedicated digital cameras. It's not just about still photos either—the video recording capabilities are equally impressive, with smooth 4K resolution and effective sound pickup. Overall, the camera alone makes this device a worthwhile purchase for photography lovers and casual users alike.\n",
            "[[0.11704115 0.12309149 0.11547005 0.12216944 0.05773503]]\n",
            "1\n",
            "Most similar document: Battery life is one of the most disappointing aspects of this phone. Despite moderate usage that includes occasional browsing, social media checks, and streaming a few videos, the phone barely makes it through the day without needing a recharge. This is especially frustrating because I rely on my phone for work, and having to constantly monitor battery levels or carry around a power bank defeats the purpose of having a modern smartphone. What's more, the battery seems to drain faster when using apps that shouldn't be that demanding. Even overnight, the phone loses a noticeable percentage of charge in standby mode, suggesting poor optimization. I expected better performance for the price, and unfortunately, the battery issues overshadow some of the device’s better qualities.\n"
          ]
        }
      ]
    },
    {
      "cell_type": "code",
      "source": [
        "\n",
        "!pip install numpy==1.24.4\n"
      ],
      "metadata": {
        "colab": {
          "base_uri": "https://localhost:8080/"
        },
        "id": "xL16uUpW1ge2",
        "outputId": "cba8978a-d855-4fc0-80c6-01fae6cdd506"
      },
      "execution_count": null,
      "outputs": [
        {
          "output_type": "stream",
          "name": "stdout",
          "text": [
            "Requirement already satisfied: numpy==1.24.4 in /usr/local/lib/python3.11/dist-packages (1.24.4)\n"
          ]
        }
      ]
    },
    {
      "cell_type": "code",
      "source": [
        "!pip install gensim==4.3.0"
      ],
      "metadata": {
        "colab": {
          "base_uri": "https://localhost:8080/"
        },
        "id": "NCFmvv8m640q",
        "outputId": "5f6c29a3-4bc0-41c6-c7eb-f96852a45973"
      },
      "execution_count": null,
      "outputs": [
        {
          "output_type": "stream",
          "name": "stdout",
          "text": [
            "Collecting gensim==4.3.0\n",
            "  Downloading gensim-4.3.0-cp311-cp311-manylinux_2_17_x86_64.manylinux2014_x86_64.whl.metadata (8.4 kB)\n",
            "Requirement already satisfied: numpy>=1.18.5 in /usr/local/lib/python3.11/dist-packages (from gensim==4.3.0) (1.24.4)\n",
            "Requirement already satisfied: scipy>=1.7.0 in /usr/local/lib/python3.11/dist-packages (from gensim==4.3.0) (1.13.1)\n",
            "Requirement already satisfied: smart-open>=1.8.1 in /usr/local/lib/python3.11/dist-packages (from gensim==4.3.0) (7.1.0)\n",
            "Collecting FuzzyTM>=0.4.0 (from gensim==4.3.0)\n",
            "  Downloading FuzzyTM-2.0.9-py3-none-any.whl.metadata (7.9 kB)\n",
            "Requirement already satisfied: pandas in /usr/local/lib/python3.11/dist-packages (from FuzzyTM>=0.4.0->gensim==4.3.0) (2.2.2)\n",
            "Collecting pyfume (from FuzzyTM>=0.4.0->gensim==4.3.0)\n",
            "  Downloading pyFUME-0.3.4-py3-none-any.whl.metadata (9.7 kB)\n",
            "Requirement already satisfied: wrapt in /usr/local/lib/python3.11/dist-packages (from smart-open>=1.8.1->gensim==4.3.0) (1.17.2)\n",
            "Requirement already satisfied: python-dateutil>=2.8.2 in /usr/local/lib/python3.11/dist-packages (from pandas->FuzzyTM>=0.4.0->gensim==4.3.0) (2.9.0.post0)\n",
            "Requirement already satisfied: pytz>=2020.1 in /usr/local/lib/python3.11/dist-packages (from pandas->FuzzyTM>=0.4.0->gensim==4.3.0) (2025.2)\n",
            "Requirement already satisfied: tzdata>=2022.7 in /usr/local/lib/python3.11/dist-packages (from pandas->FuzzyTM>=0.4.0->gensim==4.3.0) (2025.2)\n",
            "Collecting scipy>=1.7.0 (from gensim==4.3.0)\n",
            "  Downloading scipy-1.10.1-cp311-cp311-manylinux_2_17_x86_64.manylinux2014_x86_64.whl.metadata (58 kB)\n",
            "\u001b[2K     \u001b[90m━━━━━━━━━━━━━━━━━━━━━━━━━━━━━━━━━━━━━━━━\u001b[0m \u001b[32m58.9/58.9 kB\u001b[0m \u001b[31m2.4 MB/s\u001b[0m eta \u001b[36m0:00:00\u001b[0m\n",
            "\u001b[?25hCollecting simpful==2.12.0 (from pyfume->FuzzyTM>=0.4.0->gensim==4.3.0)\n",
            "  Downloading simpful-2.12.0-py3-none-any.whl.metadata (4.8 kB)\n",
            "Collecting fst-pso==1.8.1 (from pyfume->FuzzyTM>=0.4.0->gensim==4.3.0)\n",
            "  Downloading fst-pso-1.8.1.tar.gz (18 kB)\n",
            "  Preparing metadata (setup.py) ... \u001b[?25l\u001b[?25hdone\n",
            "Collecting pandas (from FuzzyTM>=0.4.0->gensim==4.3.0)\n",
            "  Downloading pandas-1.5.3-cp311-cp311-manylinux_2_17_x86_64.manylinux2014_x86_64.whl.metadata (11 kB)\n",
            "Collecting miniful (from fst-pso==1.8.1->pyfume->FuzzyTM>=0.4.0->gensim==4.3.0)\n",
            "  Downloading miniful-0.0.6.tar.gz (2.8 kB)\n",
            "  Preparing metadata (setup.py) ... \u001b[?25l\u001b[?25hdone\n",
            "Requirement already satisfied: six>=1.5 in /usr/local/lib/python3.11/dist-packages (from python-dateutil>=2.8.2->pandas->FuzzyTM>=0.4.0->gensim==4.3.0) (1.17.0)\n",
            "Downloading gensim-4.3.0-cp311-cp311-manylinux_2_17_x86_64.manylinux2014_x86_64.whl (24.1 MB)\n",
            "\u001b[2K   \u001b[90m━━━━━━━━━━━━━━━━━━━━━━━━━━━━━━━━━━━━━━━━\u001b[0m \u001b[32m24.1/24.1 MB\u001b[0m \u001b[31m57.9 MB/s\u001b[0m eta \u001b[36m0:00:00\u001b[0m\n",
            "\u001b[?25hDownloading FuzzyTM-2.0.9-py3-none-any.whl (31 kB)\n",
            "Downloading pyFUME-0.3.4-py3-none-any.whl (60 kB)\n",
            "\u001b[2K   \u001b[90m━━━━━━━━━━━━━━━━━━━━━━━━━━━━━━━━━━━━━━━━\u001b[0m \u001b[32m60.3/60.3 kB\u001b[0m \u001b[31m4.8 MB/s\u001b[0m eta \u001b[36m0:00:00\u001b[0m\n",
            "\u001b[?25hDownloading scipy-1.10.1-cp311-cp311-manylinux_2_17_x86_64.manylinux2014_x86_64.whl (34.1 MB)\n",
            "\u001b[2K   \u001b[90m━━━━━━━━━━━━━━━━━━━━━━━━━━━━━━━━━━━━━━━━\u001b[0m \u001b[32m34.1/34.1 MB\u001b[0m \u001b[31m21.9 MB/s\u001b[0m eta \u001b[36m0:00:00\u001b[0m\n",
            "\u001b[?25hDownloading pandas-1.5.3-cp311-cp311-manylinux_2_17_x86_64.manylinux2014_x86_64.whl (12.0 MB)\n",
            "\u001b[2K   \u001b[90m━━━━━━━━━━━━━━━━━━━━━━━━━━━━━━━━━━━━━━━━\u001b[0m \u001b[32m12.0/12.0 MB\u001b[0m \u001b[31m72.6 MB/s\u001b[0m eta \u001b[36m0:00:00\u001b[0m\n",
            "\u001b[?25hDownloading simpful-2.12.0-py3-none-any.whl (24 kB)\n",
            "Building wheels for collected packages: fst-pso, miniful\n",
            "  Building wheel for fst-pso (setup.py) ... \u001b[?25l\u001b[?25hdone\n",
            "  Created wheel for fst-pso: filename=fst_pso-1.8.1-py3-none-any.whl size=20431 sha256=77e892d771b2671f9c086bcaad2fa6f5d05f22dae1100b2ac25726c21c5d44f2\n",
            "  Stored in directory: /root/.cache/pip/wheels/69/f5/e5/18ad53fe1ed6b2af9fad05ec052e4acbac8e92441df44bad2e\n",
            "  Building wheel for miniful (setup.py) ... \u001b[?25l\u001b[?25hdone\n",
            "  Created wheel for miniful: filename=miniful-0.0.6-py3-none-any.whl size=3506 sha256=231e09e6952b340c33cbdc5ed6c5d3c5a71092de9f8dd3fb1c25577fcff62501\n",
            "  Stored in directory: /root/.cache/pip/wheels/9d/ff/2f/afe4cd56f47de147407705626517d68bea0f3b74eb1fb168e6\n",
            "Successfully built fst-pso miniful\n",
            "Installing collected packages: scipy, simpful, pandas, miniful, fst-pso, pyfume, FuzzyTM, gensim\n",
            "  Attempting uninstall: scipy\n",
            "    Found existing installation: scipy 1.13.1\n",
            "    Uninstalling scipy-1.13.1:\n",
            "      Successfully uninstalled scipy-1.13.1\n",
            "  Attempting uninstall: pandas\n",
            "    Found existing installation: pandas 2.2.2\n",
            "    Uninstalling pandas-2.2.2:\n",
            "      Successfully uninstalled pandas-2.2.2\n",
            "  Attempting uninstall: gensim\n",
            "    Found existing installation: gensim 4.3.3\n",
            "    Uninstalling gensim-4.3.3:\n",
            "      Successfully uninstalled gensim-4.3.3\n",
            "\u001b[31mERROR: pip's dependency resolver does not currently take into account all the packages that are installed. This behaviour is the source of the following dependency conflicts.\n",
            "google-colab 1.0.0 requires pandas==2.2.2, but you have pandas 1.5.3 which is incompatible.\n",
            "cvxpy 1.6.5 requires scipy>=1.11.0, but you have scipy 1.10.1 which is incompatible.\n",
            "dask-cudf-cu12 25.2.2 requires pandas<2.2.4dev0,>=2.0, but you have pandas 1.5.3 which is incompatible.\n",
            "xarray 2025.3.1 requires pandas>=2.1, but you have pandas 1.5.3 which is incompatible.\n",
            "jaxlib 0.5.1 requires numpy>=1.25, but you have numpy 1.24.4 which is incompatible.\n",
            "jaxlib 0.5.1 requires scipy>=1.11.1, but you have scipy 1.10.1 which is incompatible.\n",
            "scikit-image 0.25.2 requires scipy>=1.11.4, but you have scipy 1.10.1 which is incompatible.\n",
            "mizani 0.13.3 requires pandas>=2.2.0, but you have pandas 1.5.3 which is incompatible.\n",
            "plotnine 0.14.5 requires pandas>=2.2.0, but you have pandas 1.5.3 which is incompatible.\n",
            "pymc 5.22.0 requires numpy>=1.25.0, but you have numpy 1.24.4 which is incompatible.\n",
            "jax 0.5.2 requires numpy>=1.25, but you have numpy 1.24.4 which is incompatible.\n",
            "jax 0.5.2 requires scipy>=1.11.1, but you have scipy 1.10.1 which is incompatible.\n",
            "cudf-cu12 25.2.1 requires pandas<2.2.4dev0,>=2.0, but you have pandas 1.5.3 which is incompatible.\n",
            "dask-expr 1.1.21 requires pandas>=2, but you have pandas 1.5.3 which is incompatible.\u001b[0m\u001b[31m\n",
            "\u001b[0mSuccessfully installed FuzzyTM-2.0.9 fst-pso-1.8.1 gensim-4.3.0 miniful-0.0.6 pandas-1.5.3 pyfume-0.3.4 scipy-1.10.1 simpful-2.12.0\n"
          ]
        }
      ]
    },
    {
      "cell_type": "code",
      "source": [
        "# prompt: create a function for wordtovec separate the download model and usage of text\n",
        "\n",
        "import nltk\n",
        "import re\n",
        "from nltk.corpus import stopwords\n",
        "from nltk.stem import PorterStemmer, WordNetLemmatizer\n",
        "from sklearn.feature_extraction.text import CountVectorizer\n",
        "import pandas as pd\n",
        "from sklearn.metrics.pairwise import cosine_similarity\n",
        "import gensim.downloader as api\n",
        "import numpy as np\n",
        "\n",
        "def download_word2vec_model(model_name=\"word2vec-google-news-300\"):\n",
        "    try:\n",
        "        model = api.load(model_name)\n",
        "        return model\n",
        "    except Exception as e:\n",
        "        print(f\"Error loading model: {e}\")\n",
        "        return None\n",
        "\n",
        "\n"
      ],
      "metadata": {
        "id": "82z2vs_e7Xd7"
      },
      "execution_count": null,
      "outputs": []
    },
    {
      "cell_type": "code",
      "source": [
        "# prompt: First download the model and then use preprocessed text array for creation of vectors\n",
        "\n",
        "word2vec_model = download_word2vec_model()\n",
        "\n",
        "\n"
      ],
      "metadata": {
        "colab": {
          "base_uri": "https://localhost:8080/"
        },
        "id": "2E0c2cbj77cI",
        "outputId": "314f8290-2f3e-4690-d9c8-a0b82140009d"
      },
      "execution_count": null,
      "outputs": [
        {
          "output_type": "stream",
          "name": "stdout",
          "text": [
            "[==================================================] 100.0% 1662.8/1662.8MB downloaded\n"
          ]
        }
      ]
    },
    {
      "cell_type": "code",
      "source": [
        "# prompt: Create a function for WordToVec Vectorization\n",
        "\n",
        "import numpy as np\n",
        "\n",
        "def word2vec_vectorization(text, model):\n",
        "    \"\"\"\n",
        "    Generates a vector representation for a given text using Word2Vec.\n",
        "\n",
        "    Args:\n",
        "        text: The input text to vectorize.\n",
        "        model: The pre-trained Word2Vec model.\n",
        "\n",
        "    Returns:\n",
        "        A NumPy array representing the text vector, or None if the text is empty or no words are found in the model's vocabulary.\n",
        "    \"\"\"\n",
        "    if not text:\n",
        "        return None\n",
        "\n",
        "    words = text.split()\n",
        "    vectors = []\n",
        "    for word in words:\n",
        "        try:\n",
        "            vectors.append(model[word])\n",
        "        except KeyError:\n",
        "            # Handle words not in the vocabulary (e.g., ignore or use a default vector)\n",
        "            pass\n",
        "\n",
        "    if not vectors:\n",
        "        return None\n",
        "\n",
        "    # Average the word vectors to create a sentence vector\n",
        "    vector = np.mean(vectors, axis=0)\n",
        "    return vector\n"
      ],
      "metadata": {
        "id": "P-1McI_P9_XQ"
      },
      "execution_count": null,
      "outputs": []
    },
    {
      "cell_type": "code",
      "source": [
        "# prompt: Now using preprocessed text generate the wordtovec vectors\n",
        "\n",
        "# Assuming 'preprocessed_reviews' is defined from the previous code block\n",
        "\n",
        "word2vec_vectors = []\n",
        "for review in preprocessed_reviews:\n",
        "  vector = word2vec_vectorization(review, word2vec_model)\n",
        "  if vector is not None:\n",
        "    word2vec_vectors.append(vector)\n",
        "  else:\n",
        "    word2vec_vectors.append(np.zeros(300)) # Or handle it differently if needed\n",
        "\n",
        "word2vec_vectors = np.array(word2vec_vectors)\n",
        "\n",
        "word2vec_vectors\n"
      ],
      "metadata": {
        "colab": {
          "base_uri": "https://localhost:8080/"
        },
        "id": "5UUzNMER-cu8",
        "outputId": "3069ca91-be72-4ac4-efe4-c0c9505bf073"
      },
      "execution_count": null,
      "outputs": [
        {
          "output_type": "execute_result",
          "data": {
            "text/plain": [
              "array([[ 0.04074186,  0.04580688, -0.02070821, ..., -0.08305308,\n",
              "        -0.02249416, -0.01186714],\n",
              "       [ 0.00418796,  0.01533278, -0.00782776, ..., -0.04441977,\n",
              "         0.02126298, -0.01283221],\n",
              "       [ 0.04422738,  0.01686163, -0.02697488, ..., -0.08350185,\n",
              "         0.00925996, -0.03988509],\n",
              "       [-0.00413388,  0.04121774, -0.01949748, ...,  0.00237037,\n",
              "         0.00833993,  0.02956959],\n",
              "       [ 0.01055705,  0.02991155,  0.0042188 , ..., -0.03675257,\n",
              "         0.00047201, -0.03776054]], dtype=float32)"
            ]
          },
          "metadata": {},
          "execution_count": 20
        }
      ]
    },
    {
      "cell_type": "code",
      "source": [
        "# prompt: create dataframe of it\n",
        "\n",
        "# Create a DataFrame from the word2vec vectors\n",
        "word2vec_df = pd.DataFrame(word2vec_vectors)\n",
        "\n",
        "text_vector =  word2vec_vectorization(new_text[0], word2vec_model)\n",
        "similarity_scores = cosine_similarity(text_vector.reshape(1, -1), word2vec_df)\n",
        "\n",
        "print(similarity_scores)\n",
        "\n",
        "\n"
      ],
      "metadata": {
        "colab": {
          "base_uri": "https://localhost:8080/"
        },
        "id": "MmvvvCC--mBe",
        "outputId": "bf2950ec-10dc-4b78-eea9-dcafae413047"
      },
      "execution_count": null,
      "outputs": [
        {
          "output_type": "stream",
          "name": "stdout",
          "text": [
            "[[0.65249306 0.5223592  0.64548165 0.50153685 0.5977256 ]]\n"
          ]
        }
      ]
    },
    {
      "cell_type": "code",
      "source": [
        "# prompt: Based on similarity score find the most relevant text from corpus\n",
        "\n",
        "# Optional: Get index of the most similar document\n",
        "most_similar_index = similarity_scores.argmax()\n",
        "print(most_similar_index)\n",
        "print(\"Most similar document:\", expanded_reviews[most_similar_index])\n",
        "\n",
        "text_vector =  word2vec_vectorization(new_text[1], word2vec_model)\n",
        "similarity_scores = cosine_similarity(text_vector.reshape(1, -1), word2vec_df)\n",
        "\n",
        "print(similarity_scores)\n",
        "\n",
        "# Optional: Get index of the most similar document\n",
        "most_similar_index = similarity_scores.argmax()\n",
        "print(most_similar_index)\n",
        "print(\"Most similar document:\", expanded_reviews[most_similar_index])\n"
      ],
      "metadata": {
        "colab": {
          "base_uri": "https://localhost:8080/"
        },
        "id": "b0qRlRiF_EQG",
        "outputId": "7426ab82-befd-40f0-ff8d-adbda6f65c88"
      },
      "execution_count": null,
      "outputs": [
        {
          "output_type": "stream",
          "name": "stdout",
          "text": [
            "0\n",
            "Most similar document: One of the standout features of this phone, without a doubt, is its exceptional camera quality. From the moment I started using it, I was impressed by how vividly it captures colors and details, even in low-light environments. The image stabilization and auto-focus are precise, enabling me to take crisp photos effortlessly. The portrait mode delivers professional-looking shots with beautiful background blur, and the wide-angle lens adds versatility for landscape and group photography. For someone who enjoys documenting moments on the go, the quality rivals even some dedicated digital cameras. It's not just about still photos either—the video recording capabilities are equally impressive, with smooth 4K resolution and effective sound pickup. Overall, the camera alone makes this device a worthwhile purchase for photography lovers and casual users alike.\n",
            "[[0.4280702  0.5653324  0.5141477  0.54888946 0.48596898]]\n",
            "1\n",
            "Most similar document: Battery life is one of the most disappointing aspects of this phone. Despite moderate usage that includes occasional browsing, social media checks, and streaming a few videos, the phone barely makes it through the day without needing a recharge. This is especially frustrating because I rely on my phone for work, and having to constantly monitor battery levels or carry around a power bank defeats the purpose of having a modern smartphone. What's more, the battery seems to drain faster when using apps that shouldn't be that demanding. Even overnight, the phone loses a noticeable percentage of charge in standby mode, suggesting poor optimization. I expected better performance for the price, and unfortunately, the battery issues overshadow some of the device’s better qualities.\n"
          ]
        }
      ]
    }
  ]
}