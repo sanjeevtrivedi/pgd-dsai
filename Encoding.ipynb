{
  "nbformat": 4,
  "nbformat_minor": 0,
  "metadata": {
    "colab": {
      "provenance": [],
      "include_colab_link": true
    },
    "kernelspec": {
      "name": "python3",
      "display_name": "Python 3"
    },
    "language_info": {
      "name": "python"
    }
  },
  "cells": [
    {
      "cell_type": "markdown",
      "metadata": {
        "id": "view-in-github",
        "colab_type": "text"
      },
      "source": [
        "<a href=\"https://colab.research.google.com/github/sanjeevtrivedi/pgd-dsai/blob/main/Encoding.ipynb\" target=\"_parent\"><img src=\"https://colab.research.google.com/assets/colab-badge.svg\" alt=\"Open In Colab\"/></a>"
      ]
    },
    {
      "cell_type": "code",
      "execution_count": null,
      "metadata": {
        "colab": {
          "base_uri": "https://localhost:8080/"
        },
        "id": "yXMnB6o0NRQX",
        "outputId": "c1a16160-2a1d-42c5-c5d5-0fb0da9907a4"
      },
      "outputs": [
        {
          "output_type": "stream",
          "name": "stdout",
          "text": [
            "Mounted at /content/drive\n"
          ]
        }
      ],
      "source": [
        "# prompt: Mount google drive and create a variable for storing filepath My Drive/PML/Encoding/car-data-category-encoding.xlsx\n",
        "\n",
        "from google.colab import drive\n",
        "drive.mount('/content/drive')\n",
        "\n",
        "file_path = '/content/drive/My Drive/PML/Encoding/car-data-category-encoding.xlsx'"
      ]
    },
    {
      "cell_type": "code",
      "source": [
        "# prompt: Load the data into dataframe\n",
        "\n",
        "import pandas as pd\n",
        "\n",
        "df = pd.read_excel(file_path)\n",
        "print(df.head())\n"
      ],
      "metadata": {
        "colab": {
          "base_uri": "https://localhost:8080/"
        },
        "id": "dmpuPeUHROhp",
        "outputId": "bff4a98a-9c0c-4e9d-8e0f-929af7d04f01"
      },
      "execution_count": null,
      "outputs": [
        {
          "output_type": "stream",
          "name": "stdout",
          "text": [
            "  buying  maint doors persons lug_boot safety  class\n",
            "0  vhigh  vhigh     2       2    small    low  unacc\n",
            "1  vhigh  vhigh     2       2    small    med  unacc\n",
            "2  vhigh  vhigh     2       2    small   high  unacc\n",
            "3  vhigh  vhigh     2       2      med    low  unacc\n",
            "4  vhigh  vhigh     2       2      med    med  unacc\n"
          ]
        }
      ]
    },
    {
      "cell_type": "code",
      "source": [
        "# prompt: Check for missing values in each feature, print the count. Also check each row and if it has missing feature count all columns of that row and print its index\n",
        "\n",
        "# Check for missing values in each feature\n",
        "missing_values_count = df.isnull().sum()\n",
        "print(\"Missing values per feature:\\n\", missing_values_count)\n",
        "\n",
        "# Check for rows with missing values and count missing features in those rows\n",
        "rows_with_missing_values = df[df.isnull().any(axis=1)]\n",
        "for index, row in rows_with_missing_values.iterrows():\n",
        "  missing_in_row = row.isnull().sum()\n",
        "  print(f\"Row index {index} has {missing_in_row} missing values.\")"
      ],
      "metadata": {
        "colab": {
          "base_uri": "https://localhost:8080/"
        },
        "id": "ps_3pzapRTlJ",
        "outputId": "9ffd115b-1dea-4d49-fb80-92f3ad609ad6"
      },
      "execution_count": null,
      "outputs": [
        {
          "output_type": "stream",
          "name": "stdout",
          "text": [
            "Missing values per feature:\n",
            " buying      0\n",
            "maint       0\n",
            "doors       0\n",
            "persons     0\n",
            "lug_boot    0\n",
            "safety      0\n",
            "class       0\n",
            "dtype: int64\n"
          ]
        }
      ]
    },
    {
      "cell_type": "code",
      "source": [
        "# prompt: install install category_encoders\n",
        "\n",
        "!pip install category_encoders\n",
        "\n"
      ],
      "metadata": {
        "colab": {
          "base_uri": "https://localhost:8080/"
        },
        "id": "lx4PU0ljUFqX",
        "outputId": "6a4b8925-4aec-4504-8e07-7f6c3f25749a"
      },
      "execution_count": null,
      "outputs": [
        {
          "output_type": "stream",
          "name": "stdout",
          "text": [
            "Collecting category_encoders\n",
            "  Downloading category_encoders-2.8.1-py3-none-any.whl.metadata (7.9 kB)\n",
            "Requirement already satisfied: numpy>=1.14.0 in /usr/local/lib/python3.11/dist-packages (from category_encoders) (2.0.2)\n",
            "Requirement already satisfied: pandas>=1.0.5 in /usr/local/lib/python3.11/dist-packages (from category_encoders) (2.2.2)\n",
            "Requirement already satisfied: patsy>=0.5.1 in /usr/local/lib/python3.11/dist-packages (from category_encoders) (1.0.1)\n",
            "Requirement already satisfied: scikit-learn>=1.6.0 in /usr/local/lib/python3.11/dist-packages (from category_encoders) (1.6.1)\n",
            "Requirement already satisfied: scipy>=1.0.0 in /usr/local/lib/python3.11/dist-packages (from category_encoders) (1.15.2)\n",
            "Requirement already satisfied: statsmodels>=0.9.0 in /usr/local/lib/python3.11/dist-packages (from category_encoders) (0.14.4)\n",
            "Requirement already satisfied: python-dateutil>=2.8.2 in /usr/local/lib/python3.11/dist-packages (from pandas>=1.0.5->category_encoders) (2.9.0.post0)\n",
            "Requirement already satisfied: pytz>=2020.1 in /usr/local/lib/python3.11/dist-packages (from pandas>=1.0.5->category_encoders) (2025.2)\n",
            "Requirement already satisfied: tzdata>=2022.7 in /usr/local/lib/python3.11/dist-packages (from pandas>=1.0.5->category_encoders) (2025.2)\n",
            "Requirement already satisfied: joblib>=1.2.0 in /usr/local/lib/python3.11/dist-packages (from scikit-learn>=1.6.0->category_encoders) (1.4.2)\n",
            "Requirement already satisfied: threadpoolctl>=3.1.0 in /usr/local/lib/python3.11/dist-packages (from scikit-learn>=1.6.0->category_encoders) (3.6.0)\n",
            "Requirement already satisfied: packaging>=21.3 in /usr/local/lib/python3.11/dist-packages (from statsmodels>=0.9.0->category_encoders) (24.2)\n",
            "Requirement already satisfied: six>=1.5 in /usr/local/lib/python3.11/dist-packages (from python-dateutil>=2.8.2->pandas>=1.0.5->category_encoders) (1.17.0)\n",
            "Downloading category_encoders-2.8.1-py3-none-any.whl (85 kB)\n",
            "\u001b[?25l   \u001b[90m━━━━━━━━━━━━━━━━━━━━━━━━━━━━━━━━━━━━━━━━\u001b[0m \u001b[32m0.0/85.7 kB\u001b[0m \u001b[31m?\u001b[0m eta \u001b[36m-:--:--\u001b[0m\r\u001b[2K   \u001b[90m━━━━━━━━━━━━━━━━━━━━━━━━━━━━━━━━━━━━━━━━\u001b[0m \u001b[32m85.7/85.7 kB\u001b[0m \u001b[31m7.0 MB/s\u001b[0m eta \u001b[36m0:00:00\u001b[0m\n",
            "\u001b[?25hInstalling collected packages: category_encoders\n",
            "Successfully installed category_encoders-2.8.1\n"
          ]
        }
      ]
    },
    {
      "cell_type": "code",
      "source": [
        "import category_encoders as ce\n",
        "\n",
        "\n",
        "def encode_features(df, target_column, method):\n",
        "    X = df.drop(columns=[target_column],axis=1)\n",
        "    y = df[target_column]\n",
        "\n",
        "    encoder = {\n",
        "        'ordinal': ce.OrdinalEncoder(),\n",
        "        'onehot': ce.OneHotEncoder(use_cat_names=True),\n",
        "        'binary': ce.BinaryEncoder(),\n",
        "        'target': ce.TargetEncoder(),\n",
        "        'frequency': ce.CountEncoder(normalize=True)\n",
        "    }.get(method)\n",
        "\n",
        "    if encoder is None:\n",
        "        raise ValueError(f\"Encoding method '{method}' is not supported.\")\n",
        "\n",
        "    X_encoded = encoder.fit_transform(X, y if method == 'target' else None)\n",
        "    # Instead of returning a concatenated DataFrame, return X_encoded and y separately\n",
        "    return X_encoded, y # Modified line to return two values\n"
      ],
      "metadata": {
        "id": "iXF1jHYOT448"
      },
      "execution_count": null,
      "outputs": []
    },
    {
      "cell_type": "code",
      "source": [
        "# target_column  = \"class\"\n",
        "# method=\"ordinal\"\n",
        "# X = df.drop(columns=[target_column], axis=1)\n",
        "# y = df[target_column]\n",
        "\n",
        "# encoder = {\n",
        "#     'ordinal': ce.OrdinalEncoder(),\n",
        "#     'onehot': ce.OneHotEncoder(use_cat_names=True),\n",
        "#     'binary': ce.BinaryEncoder(),\n",
        "#     'target': ce.TargetEncoder(),\n",
        "#     'frequency': ce.CountEncoder(normalize=True)\n",
        "# }.get(method)\n",
        "\n",
        "# if encoder is None:\n",
        "#     raise ValueError(f\"Encoding method '{method}' is not supported.\")\n",
        "\n",
        "# X_encoded = encoder.fit_transform(X, y if method == 'target' else None)"
      ],
      "metadata": {
        "id": "LrnJ17IYWXGD"
      },
      "execution_count": null,
      "outputs": []
    },
    {
      "cell_type": "code",
      "source": [
        "encoding_method = 'ordinal'  # can be 'ordinal', 'onehot', 'binary', 'target', 'frequency'\n",
        "\n",
        "# Step 3: Encode features\n",
        "X_encoded, y = encode_features(df, target_column='class', method=encoding_method)\n"
      ],
      "metadata": {
        "id": "veI2WPfTWA3s"
      },
      "execution_count": null,
      "outputs": []
    },
    {
      "cell_type": "code",
      "source": [
        "print(X_encoded.head())"
      ],
      "metadata": {
        "colab": {
          "base_uri": "https://localhost:8080/"
        },
        "id": "QAYfcJ62XLUo",
        "outputId": "b10d9aee-d323-48cd-9d54-1dcf10a4c34b"
      },
      "execution_count": null,
      "outputs": [
        {
          "output_type": "stream",
          "name": "stdout",
          "text": [
            "   buying  maint  doors  persons  lug_boot  safety\n",
            "0       1      1      1        1         1       1\n",
            "1       1      1      1        1         1       2\n",
            "2       1      1      1        1         1       3\n",
            "3       1      1      1        1         2       1\n",
            "4       1      1      1        1         2       2\n"
          ]
        }
      ]
    },
    {
      "cell_type": "markdown",
      "source": [
        "You will repeat this workflow for each encoding method, and later for each classifier.\n",
        "\n",
        "> Add blockquote\n",
        "\n"
      ],
      "metadata": {
        "id": "fTQO_qWuUaZo"
      }
    },
    {
      "cell_type": "code",
      "source": [
        "#Split data in common\n",
        "from sklearn.model_selection import train_test_split\n",
        "X = X_encoded\n",
        "\n"
      ],
      "metadata": {
        "id": "XHWv2OUiUS1S"
      },
      "execution_count": null,
      "outputs": []
    },
    {
      "cell_type": "markdown",
      "source": [
        "Random classifier model"
      ],
      "metadata": {
        "id": "jJm_pgieVBRk"
      }
    },
    {
      "cell_type": "code",
      "source": [
        "from sklearn.model_selection import train_test_split\n",
        "from sklearn.ensemble import RandomForestClassifier\n",
        "from sklearn.linear_model import LogisticRegression\n",
        "from sklearn.svm import SVC\n",
        "from sklearn.metrics import classification_report\n",
        "from typing import Tuple\n",
        "import sys\n",
        "\n",
        "def train_and_evaluate_model(X, y, model_type: str = \"random_forest\", encode:str =\"ordinal\") -> Tuple:\n",
        "    \"\"\"\n",
        "    Trains and evaluates a classification model based on the specified model_type.\n",
        "\n",
        "    Parameters:\n",
        "        X (pd.DataFrame or np.ndarray): Feature matrix\n",
        "        y (pd.Series or np.ndarray): Target vector\n",
        "        model_type (str): Type of model to train. Options:\n",
        "                          'random_forest', 'logistic_regression', 'svc', 'rf' (alias for random forest)\n",
        "        encode (str): Encoding method. Options: 'c', 'onehot', 'binary', 'target', 'frequency'\n",
        "\n",
        "    Returns:\n",
        "        Tuple: (trained_model, y_train_pred, y_test_pred)\n",
        "    \"\"\"\n",
        "\n",
        "    # Split data\n",
        "    X_train, X_test, y_train, y_test = train_test_split(X, y, test_size=0.2, random_state=42)\n",
        "\n",
        "    # Model selection based on switch-case\n",
        "    match model_type.lower():\n",
        "        case \"random_forest\" | \"rf\":\n",
        "            clf = RandomForestClassifier(random_state=42)\n",
        "        case \"logistic_regression\":\n",
        "            clf = LogisticRegression(max_iter=1000, random_state=42)\n",
        "        case \"svc\":\n",
        "            clf = SVC(probability=True, random_state=42)\n",
        "        case _:\n",
        "            print(f\"Unsupported model type: {model_type}\", file=sys.stderr)\n",
        "            return None\n",
        "\n",
        "    # Train model\n",
        "    clf.fit(X_train, y_train)\n",
        "\n",
        "    # Predictions\n",
        "    y_train_pred = clf.predict(X_train)\n",
        "    y_test_pred = clf.predict(X_test)\n",
        "\n",
        "    # Evaluation\n",
        "    print(f\"\\nTest Classification Report for {model_type} and encode type {encode}:\\n\", classification_report(y_test, y_test_pred, zero_division=0))\n",
        "\n",
        "    return clf, y_train_pred, y_test_pred\n"
      ],
      "metadata": {
        "id": "jP3Gt6R1YJ8U"
      },
      "execution_count": null,
      "outputs": []
    },
    {
      "cell_type": "code",
      "source": [
        "# prompt: utilize train_and_evaluate_model for random forest with ordinal for X_encoded and y\n",
        "\n",
        "# Assuming X_encoded and y are already defined from the previous code block\n",
        "\n",
        "trained_model, y_train_pred, y_test_pred = train_and_evaluate_model(X_encoded, y, model_type=\"random_forest\", encode=\"ordinal\")\n",
        "trained_model, y_train_pred, y_test_pred = train_and_evaluate_model(X_encoded, y, model_type=\"logistic_regression\", encode=\"ordinal\")\n",
        "trained_model, y_train_pred, y_test_pred = train_and_evaluate_model(X_encoded, y, model_type=\"svc\", encode=\"ordinal\")\n"
      ],
      "metadata": {
        "colab": {
          "base_uri": "https://localhost:8080/"
        },
        "id": "C2iYurKvajC-",
        "outputId": "6b9b385c-6f04-4062-f354-1de756b37893"
      },
      "execution_count": null,
      "outputs": [
        {
          "output_type": "stream",
          "name": "stdout",
          "text": [
            "\n",
            "Test Classification Report for random_forest and encode type ordinal:\n",
            "               precision    recall  f1-score   support\n",
            "\n",
            "         acc       0.99      0.90      0.94        83\n",
            "        good       0.71      0.91      0.80        11\n",
            "       unacc       0.99      1.00      0.99       235\n",
            "       vgood       0.89      0.94      0.91        17\n",
            "\n",
            "    accuracy                           0.97       346\n",
            "   macro avg       0.89      0.94      0.91       346\n",
            "weighted avg       0.97      0.97      0.97       346\n",
            "\n",
            "\n",
            "Test Classification Report for logistic_regression and encode type ordinal:\n",
            "               precision    recall  f1-score   support\n",
            "\n",
            "         acc       0.67      0.55      0.61        83\n",
            "        good       0.67      0.36      0.47        11\n",
            "       unacc       0.86      0.93      0.89       235\n",
            "       vgood       0.76      0.76      0.76        17\n",
            "\n",
            "    accuracy                           0.81       346\n",
            "   macro avg       0.74      0.65      0.68       346\n",
            "weighted avg       0.80      0.81      0.80       346\n",
            "\n",
            "\n",
            "Test Classification Report for svc and encode type ordinal:\n",
            "               precision    recall  f1-score   support\n",
            "\n",
            "         acc       0.96      0.86      0.90        83\n",
            "        good       0.65      1.00      0.79        11\n",
            "       unacc       0.97      1.00      0.98       235\n",
            "       vgood       1.00      0.82      0.90        17\n",
            "\n",
            "    accuracy                           0.95       346\n",
            "   macro avg       0.89      0.92      0.89       346\n",
            "weighted avg       0.96      0.95      0.95       346\n",
            "\n"
          ]
        }
      ]
    },
    {
      "cell_type": "code",
      "source": [
        "# prompt: now encode with one hot and print the head and also count the features\n",
        "\n",
        "encoding_method = 'onehot'  # Change to 'onehot'\n",
        "\n",
        "# Step 3: Encode features\n",
        "X_encoded_onehot, y = encode_features(df, target_column='class', method=encoding_method)\n",
        "\n",
        "print(X_encoded_onehot.head())\n",
        "\n",
        "# Count the features\n",
        "num_features = X_encoded_onehot.shape[1]\n",
        "print(f\"\\nNumber of features after one-hot encoding: {num_features}\")\n"
      ],
      "metadata": {
        "colab": {
          "base_uri": "https://localhost:8080/"
        },
        "id": "yppIrTBtbA34",
        "outputId": "53e7d808-2086-40fc-c641-e09382c6a32a"
      },
      "execution_count": null,
      "outputs": [
        {
          "output_type": "stream",
          "name": "stdout",
          "text": [
            "   buying_vhigh  buying_high  buying_med  buying_low  maint_vhigh  maint_high  \\\n",
            "0             1            0           0           0            1           0   \n",
            "1             1            0           0           0            1           0   \n",
            "2             1            0           0           0            1           0   \n",
            "3             1            0           0           0            1           0   \n",
            "4             1            0           0           0            1           0   \n",
            "\n",
            "   maint_med  maint_low  doors_2  doors_3  ...  doors_5more  persons_2  \\\n",
            "0          0          0        1        0  ...            0          1   \n",
            "1          0          0        1        0  ...            0          1   \n",
            "2          0          0        1        0  ...            0          1   \n",
            "3          0          0        1        0  ...            0          1   \n",
            "4          0          0        1        0  ...            0          1   \n",
            "\n",
            "   persons_4  persons_more  lug_boot_small  lug_boot_med  lug_boot_big  \\\n",
            "0          0             0               1             0             0   \n",
            "1          0             0               1             0             0   \n",
            "2          0             0               1             0             0   \n",
            "3          0             0               0             1             0   \n",
            "4          0             0               0             1             0   \n",
            "\n",
            "   safety_low  safety_med  safety_high  \n",
            "0           1           0            0  \n",
            "1           0           1            0  \n",
            "2           0           0            1  \n",
            "3           1           0            0  \n",
            "4           0           1            0  \n",
            "\n",
            "[5 rows x 21 columns]\n",
            "\n",
            "Number of features after one-hot encoding: 21\n"
          ]
        }
      ]
    },
    {
      "cell_type": "code",
      "source": [
        "\n",
        "from sklearn.decomposition import PCA\n",
        "\n",
        "pca_onehot = PCA(n_components=0.95) # Keep components explaining 95% of the variance\n",
        "X_pca_onehot = pca_onehot.fit_transform(X_encoded_onehot)\n",
        "\n",
        "\n"
      ],
      "metadata": {
        "id": "iHxpTY20fWb7"
      },
      "execution_count": null,
      "outputs": []
    },
    {
      "cell_type": "code",
      "source": [
        "# prompt: Plot bar and cumm plot for PCA X_pca_onehot side by side with cumm should have .90 line from y, chart should have grid\n",
        "\n",
        "import matplotlib.pyplot as plt\n",
        "\n",
        "# Assuming X_pca_onehot and pca are defined from the previous code block\n",
        "\n",
        "explained_variance_ratio = pca_onehot.explained_variance_ratio_\n",
        "\n",
        "# Create the bar plot\n",
        "plt.figure(figsize=(12, 4))\n",
        "plt.subplot(1, 2, 1)\n",
        "plt.bar(range(1, len(explained_variance_ratio) + 1), explained_variance_ratio)\n",
        "plt.xlabel('Principal Component')\n",
        "plt.ylabel('Explained Variance Ratio')\n",
        "plt.title('Explained Variance Ratio per Principal Component')\n",
        "plt.grid(True)\n",
        "\n",
        "\n",
        "# Create the cumulative explained variance plot\n",
        "plt.subplot(1, 2, 2)\n",
        "cumulative_variance = explained_variance_ratio.cumsum()\n",
        "plt.plot(range(1, len(cumulative_variance) + 1), cumulative_variance)\n",
        "plt.axhline(y=0.95, color='r', linestyle='--', label='90% Explained Variance')  # Add the 0.90 line\n",
        "\n",
        "plt.xlabel('Number of Components')\n",
        "plt.ylabel('Cumulative Explained Variance Ratio')\n",
        "plt.title('Cumulative Explained Variance Ratio')\n",
        "plt.grid(True)\n",
        "plt.legend()  # Show legend\n",
        "\n",
        "plt.tight_layout()\n",
        "plt.show()\n"
      ],
      "metadata": {
        "colab": {
          "base_uri": "https://localhost:8080/",
          "height": 396
        },
        "id": "XlYY-KtzfvIW",
        "outputId": "219490b4-65aa-4dc2-a95d-2696cccc4d9e"
      },
      "execution_count": null,
      "outputs": [
        {
          "output_type": "display_data",
          "data": {
            "text/plain": [
              "<Figure size 1200x400 with 2 Axes>"
            ],
            "image/png": "[encoded data removed]"
          },
          "metadata": {}
        }
      ]
    },
    {
      "cell_type": "markdown",
      "source": [
        "Lets take 15 components of PCA\n"
      ],
      "metadata": {
        "id": "tnc8XdU3ghfk"
      }
    },
    {
      "cell_type": "code",
      "source": [
        "\n",
        "X_pca_onehot = X_pca_onehot[:, :15] # Select the first 15 components\n",
        "\n",
        "# Now X_pca_onehot_15 contains the first 15 principal components.  You can use this for model evaluation.\n",
        "X_pca_onehot.shape\n",
        "\n"
      ],
      "metadata": {
        "colab": {
          "base_uri": "https://localhost:8080/"
        },
        "id": "WRGfgtdFhHKS",
        "outputId": "fae2ca01-b258-4de5-96d4-57ab0b8eea89"
      },
      "execution_count": null,
      "outputs": [
        {
          "output_type": "execute_result",
          "data": {
            "text/plain": [
              "(1728, 15)"
            ]
          },
          "metadata": {},
          "execution_count": 66
        }
      ]
    },
    {
      "cell_type": "code",
      "source": [
        "# prompt: Do modal evaluation for onehot encoded\n",
        "\n",
        "#Now do the modal evaluation for the pca components\n",
        "trained_model, y_train_pred, y_test_pred = train_and_evaluate_model(pd.DataFrame(X_pca_onehot), y, model_type=\"random_forest\", encode=\"onehot\")\n",
        "trained_model, y_train_pred, y_test_pred = train_and_evaluate_model(pd.DataFrame(X_pca_onehot), y, model_type=\"logistic_regression\", encode=\"onehot\")\n",
        "trained_model, y_train_pred, y_test_pred = train_and_evaluate_model(pd.DataFrame(X_pca_onehot), y, model_type=\"svc\", encode=\"onehot\")\n"
      ],
      "metadata": {
        "colab": {
          "base_uri": "https://localhost:8080/"
        },
        "id": "RRoaLcZqhtXo",
        "outputId": "c83845c9-d3d8-4aed-f701-385f25e01204"
      },
      "execution_count": null,
      "outputs": [
        {
          "output_type": "stream",
          "name": "stdout",
          "text": [
            "\n",
            "Test Classification Report for random_forest and encode type onehot:\n",
            "               precision    recall  f1-score   support\n",
            "\n",
            "         acc       0.95      0.87      0.91        83\n",
            "        good       0.53      0.82      0.64        11\n",
            "       unacc       0.99      1.00      0.99       235\n",
            "       vgood       0.87      0.76      0.81        17\n",
            "\n",
            "    accuracy                           0.95       346\n",
            "   macro avg       0.83      0.86      0.84       346\n",
            "weighted avg       0.96      0.95      0.95       346\n",
            "\n",
            "\n",
            "Test Classification Report for logistic_regression and encode type onehot:\n",
            "               precision    recall  f1-score   support\n",
            "\n",
            "         acc       0.84      0.82      0.83        83\n",
            "        good       0.50      0.55      0.52        11\n",
            "       unacc       0.96      0.97      0.97       235\n",
            "       vgood       0.94      0.88      0.91        17\n",
            "\n",
            "    accuracy                           0.92       346\n",
            "   macro avg       0.81      0.80      0.81       346\n",
            "weighted avg       0.92      0.92      0.92       346\n",
            "\n",
            "\n",
            "Test Classification Report for svc and encode type onehot:\n",
            "               precision    recall  f1-score   support\n",
            "\n",
            "         acc       0.99      0.89      0.94        83\n",
            "        good       0.59      0.91      0.71        11\n",
            "       unacc       1.00      1.00      1.00       235\n",
            "       vgood       0.84      0.94      0.89        17\n",
            "\n",
            "    accuracy                           0.97       346\n",
            "   macro avg       0.85      0.94      0.88       346\n",
            "weighted avg       0.98      0.97      0.97       346\n",
            "\n",
            "\n",
            "Test Classification Report for random_forest and encode type onehot:\n",
            "               precision    recall  f1-score   support\n",
            "\n",
            "         acc       0.97      0.90      0.94        83\n",
            "        good       0.59      0.91      0.71        11\n",
            "       unacc       1.00      1.00      1.00       235\n",
            "       vgood       0.88      0.88      0.88        17\n",
            "\n",
            "    accuracy                           0.97       346\n",
            "   macro avg       0.86      0.92      0.88       346\n",
            "weighted avg       0.97      0.97      0.97       346\n",
            "\n",
            "\n",
            "Test Classification Report for logistic_regression and encode type onehot:\n",
            "               precision    recall  f1-score   support\n",
            "\n",
            "         acc       0.84      0.82      0.83        83\n",
            "        good       0.50      0.55      0.52        11\n",
            "       unacc       0.96      0.97      0.97       235\n",
            "       vgood       0.94      0.88      0.91        17\n",
            "\n",
            "    accuracy                           0.92       346\n",
            "   macro avg       0.81      0.80      0.81       346\n",
            "weighted avg       0.92      0.92      0.92       346\n",
            "\n",
            "\n",
            "Test Classification Report for svc and encode type onehot:\n",
            "               precision    recall  f1-score   support\n",
            "\n",
            "         acc       0.99      0.89      0.94        83\n",
            "        good       0.59      0.91      0.71        11\n",
            "       unacc       1.00      1.00      1.00       235\n",
            "       vgood       0.84      0.94      0.89        17\n",
            "\n",
            "    accuracy                           0.97       346\n",
            "   macro avg       0.85      0.94      0.88       346\n",
            "weighted avg       0.98      0.97      0.97       346\n",
            "\n"
          ]
        }
      ]
    },
    {
      "cell_type": "code",
      "source": [
        "# prompt: now encode df with binary encoder\n",
        "\n",
        "encoding_method = 'binary'  # Change to 'binary'\n",
        "\n",
        "# Step 3: Encode features\n",
        "X_encoded_binary, y = encode_features(df, target_column='class', method=encoding_method)\n",
        "\n",
        "print(X_encoded_binary.head())\n",
        "\n",
        "# Count the features\n",
        "num_features = X_encoded_binary.shape[1]\n",
        "\n",
        "print(f\"\\nfeature count: {num_features}\")\n",
        "\n",
        "\n",
        "\n"
      ],
      "metadata": {
        "colab": {
          "base_uri": "https://localhost:8080/"
        },
        "id": "vTQlYVIWh_Mt",
        "outputId": "9f346231-3c3a-4c97-918f-b369fcfed8ca"
      },
      "execution_count": null,
      "outputs": [
        {
          "output_type": "stream",
          "name": "stdout",
          "text": [
            "   buying_0  buying_1  buying_2  maint_0  maint_1  maint_2  doors_0  doors_1  \\\n",
            "0         0         0         1        0        0        1        0        0   \n",
            "1         0         0         1        0        0        1        0        0   \n",
            "2         0         0         1        0        0        1        0        0   \n",
            "3         0         0         1        0        0        1        0        0   \n",
            "4         0         0         1        0        0        1        0        0   \n",
            "\n",
            "   doors_2  persons_0  persons_1  lug_boot_0  lug_boot_1  safety_0  safety_1  \n",
            "0        1          0          1           0           1         0         1  \n",
            "1        1          0          1           0           1         1         0  \n",
            "2        1          0          1           0           1         1         1  \n",
            "3        1          0          1           1           0         0         1  \n",
            "4        1          0          1           1           0         1         0  \n",
            "\n",
            "feature count: 15\n"
          ]
        }
      ]
    },
    {
      "cell_type": "code",
      "source": [
        "# prompt: evaulate the model\n",
        "\n",
        "# Assuming X_encoded_binary and y are already defined from the previous code block\n",
        "\n",
        "trained_model, y_train_pred, y_test_pred = train_and_evaluate_model(X_encoded_binary, y, model_type=\"random_forest\", encode=\"binary\")\n",
        "trained_model, y_train_pred, y_test_pred = train_and_evaluate_model(X_encoded_binary, y, model_type=\"logistic_regression\", encode=\"binary\")\n",
        "trained_model, y_train_pred, y_test_pred = train_and_evaluate_model(X_encoded_binary, y, model_type=\"svc\", encode=\"binary\")\n",
        "\n"
      ],
      "metadata": {
        "colab": {
          "base_uri": "https://localhost:8080/"
        },
        "id": "pZ5yFbAnij-R",
        "outputId": "facf81d0-f16a-4558-9e5b-cd0b3aa9e3e2"
      },
      "execution_count": null,
      "outputs": [
        {
          "output_type": "stream",
          "name": "stdout",
          "text": [
            "\n",
            "Test Classification Report for random_forest and encode type binary:\n",
            "               precision    recall  f1-score   support\n",
            "\n",
            "         acc       0.82      0.76      0.79        83\n",
            "        good       0.43      0.55      0.48        11\n",
            "       unacc       0.95      0.99      0.97       235\n",
            "       vgood       0.80      0.47      0.59        17\n",
            "\n",
            "    accuracy                           0.90       346\n",
            "   macro avg       0.75      0.69      0.71       346\n",
            "weighted avg       0.90      0.90      0.89       346\n",
            "\n",
            "\n",
            "Test Classification Report for logistic_regression and encode type binary:\n",
            "               precision    recall  f1-score   support\n",
            "\n",
            "         acc       0.74      0.81      0.77        83\n",
            "        good       0.57      0.36      0.44        11\n",
            "       unacc       0.95      0.97      0.96       235\n",
            "       vgood       1.00      0.41      0.58        17\n",
            "\n",
            "    accuracy                           0.88       346\n",
            "   macro avg       0.81      0.64      0.69       346\n",
            "weighted avg       0.89      0.88      0.88       346\n",
            "\n",
            "\n",
            "Test Classification Report for svc and encode type binary:\n",
            "               precision    recall  f1-score   support\n",
            "\n",
            "         acc       0.87      0.89      0.88        83\n",
            "        good       0.58      0.64      0.61        11\n",
            "       unacc       0.98      1.00      0.99       235\n",
            "       vgood       1.00      0.59      0.74        17\n",
            "\n",
            "    accuracy                           0.94       346\n",
            "   macro avg       0.86      0.78      0.81       346\n",
            "weighted avg       0.94      0.94      0.94       346\n",
            "\n"
          ]
        }
      ]
    },
    {
      "cell_type": "code",
      "source": [
        "# prompt: generate encoding of df with target encoding\n",
        "\n",
        "encoding_method = 'target'  # Change to 'target'\n",
        "\n",
        "# Step 3: Encode features\n",
        "X_encoded_target, y = encode_features(df, target_column='class', method=encoding_method)\n",
        "\n",
        "print(X_encoded_target.head())\n",
        "\n",
        "# Count the features\n",
        "num_features = X_encoded_target.shape[1]\n",
        "print(f\"\\nNumber of features after target encoding: {num_features}\")\n",
        "\n"
      ],
      "metadata": {
        "colab": {
          "base_uri": "https://localhost:8080/"
        },
        "id": "FZZszVG8i2MF",
        "outputId": "4e09b2cf-2010-4923-a33c-3e7da5629a08"
      },
      "execution_count": null,
      "outputs": [
        {
          "output_type": "stream",
          "name": "stdout",
          "text": [
            "     buying     maint     doors  persons  lug_boot    safety\n",
            "0  1.666667  1.666667  1.613426      2.0  1.598958  2.000000\n",
            "1  1.666667  1.666667  1.613426      2.0  1.598958  1.307292\n",
            "2  1.666667  1.666667  1.613426      2.0  1.598958  1.352431\n",
            "3  1.666667  1.666667  1.613426      2.0  1.532986  2.000000\n",
            "4  1.666667  1.666667  1.613426      2.0  1.532986  1.307292\n",
            "\n",
            "Number of features after target encoding: 6\n"
          ]
        }
      ]
    },
    {
      "cell_type": "code",
      "source": [
        "# prompt: standardize the x_encoded_target\n",
        "\n",
        "from sklearn.preprocessing import StandardScaler\n",
        "\n",
        "scaler = StandardScaler()\n",
        "X_encoded_target_scaled = scaler.fit_transform(X_encoded_target)\n",
        "X_encoded_target = pd.DataFrame(X_encoded_target_scaled, columns=X_encoded_target.columns)\n",
        "print(X_encoded_target.head())\n"
      ],
      "metadata": {
        "colab": {
          "base_uri": "https://localhost:8080/"
        },
        "id": "OnCxm5S-jD7S",
        "outputId": "18d6694b-41de-428c-f403-985334106195"
      },
      "execution_count": null,
      "outputs": [
        {
          "output_type": "stream",
          "name": "stdout",
          "text": [
            "     buying     maint     doors   persons  lug_boot    safety\n",
            "0  1.521255  1.612418  1.731411  1.410583  1.411164  1.411814\n",
            "1  1.521255  1.612418  1.731411  1.410583  1.411164 -0.777229\n",
            "2  1.521255  1.612418  1.731411  1.410583  1.411164 -0.634585\n",
            "3  1.521255  1.612418  1.731411  1.410583 -0.625199  1.411814\n",
            "4  1.521255  1.612418  1.731411  1.410583 -0.625199 -0.777229\n"
          ]
        }
      ]
    },
    {
      "cell_type": "code",
      "source": [
        "\n",
        "# Assuming X_encoded_target and y are already defined from the previous code block\n",
        "\n",
        "trained_model, y_train_pred, y_test_pred = train_and_evaluate_model(X_encoded_target_scaled, y, model_type=\"random_forest\", encode=\"target\")\n",
        "trained_model, y_train_pred, y_test_pred = train_and_evaluate_model(X_encoded_target_scaled, y, model_type=\"logistic_regression\", encode=\"target\")\n",
        "trained_model, y_train_pred, y_test_pred = train_and_evaluate_model(X_encoded_target_scaled, y, model_type=\"svc\", encode=\"target\")\n"
      ],
      "metadata": {
        "colab": {
          "base_uri": "https://localhost:8080/"
        },
        "id": "WGR3W54YjSA4",
        "outputId": "b9e5f32d-de7c-4be9-bebe-d1523f78f929"
      },
      "execution_count": null,
      "outputs": [
        {
          "output_type": "stream",
          "name": "stdout",
          "text": [
            "\n",
            "Test Classification Report for random_forest and encode type target:\n",
            "               precision    recall  f1-score   support\n",
            "\n",
            "         acc       0.99      0.90      0.94        83\n",
            "        good       0.56      0.91      0.69        11\n",
            "       unacc       0.99      1.00      1.00       235\n",
            "       vgood       0.93      0.82      0.88        17\n",
            "\n",
            "    accuracy                           0.97       346\n",
            "   macro avg       0.87      0.91      0.88       346\n",
            "weighted avg       0.97      0.97      0.97       346\n",
            "\n",
            "\n",
            "Test Classification Report for logistic_regression and encode type target:\n",
            "               precision    recall  f1-score   support\n",
            "\n",
            "         acc       0.61      0.76      0.68        83\n",
            "        good       0.00      0.00      0.00        11\n",
            "       unacc       0.91      0.94      0.92       235\n",
            "       vgood       0.00      0.00      0.00        17\n",
            "\n",
            "    accuracy                           0.82       346\n",
            "   macro avg       0.38      0.42      0.40       346\n",
            "weighted avg       0.76      0.82      0.79       346\n",
            "\n",
            "\n",
            "Test Classification Report for svc and encode type target:\n",
            "               precision    recall  f1-score   support\n",
            "\n",
            "         acc       0.65      0.84      0.73        83\n",
            "        good       0.00      0.00      0.00        11\n",
            "       unacc       0.95      0.96      0.95       235\n",
            "       vgood       0.00      0.00      0.00        17\n",
            "\n",
            "    accuracy                           0.85       346\n",
            "   macro avg       0.40      0.45      0.42       346\n",
            "weighted avg       0.80      0.85      0.82       346\n",
            "\n"
          ]
        }
      ]
    },
    {
      "cell_type": "code",
      "source": [
        "# prompt: Encode df with frequency encoding\n",
        "\n",
        "encoding_method = 'frequency'  # Change to 'frequency'\n",
        "\n",
        "# Step 3: Encode features\n",
        "X_encoded_frequency, y = encode_features(df, target_column='class', method=encoding_method)\n",
        "\n",
        "print(X_encoded_frequency.head())\n",
        "\n",
        "# Count the features\n",
        "num_features = X_encoded_frequency.shape[1]\n",
        "print(f\"\\nNumber of features after frequency encoding: {num_features}\")\n",
        "\n",
        "# Assuming X_encoded_frequency and y are already defined\n",
        "\n",
        "trained_model, y_train_pred, y_test_pred = train_and_evaluate_model(X_encoded_frequency, y, model_type=\"random_forest\", encode=\"frequency\")\n",
        "trained_model, y_train_pred, y_test_pred = train_and_evaluate_model(X_encoded_frequency, y, model_type=\"logistic_regression\", encode=\"frequency\")\n",
        "trained_model, y_train_pred, y_test_pred = train_and_evaluate_model(X_encoded_frequency, y, model_type=\"svc\", encode=\"frequency\")\n"
      ],
      "metadata": {
        "colab": {
          "base_uri": "https://localhost:8080/"
        },
        "id": "vOL4lj1VkF7M",
        "outputId": "ab6858fc-911d-4888-a172-4fc3574dd7f2"
      },
      "execution_count": null,
      "outputs": [
        {
          "output_type": "stream",
          "name": "stdout",
          "text": [
            "   buying  maint  doors   persons  lug_boot    safety\n",
            "0    0.25   0.25   0.25  0.333333  0.333333  0.333333\n",
            "1    0.25   0.25   0.25  0.333333  0.333333  0.333333\n",
            "2    0.25   0.25   0.25  0.333333  0.333333  0.333333\n",
            "3    0.25   0.25   0.25  0.333333  0.333333  0.333333\n",
            "4    0.25   0.25   0.25  0.333333  0.333333  0.333333\n",
            "\n",
            "Number of features after frequency encoding: 6\n",
            "\n",
            "Test Classification Report for random_forest and encode type frequency:\n",
            "               precision    recall  f1-score   support\n",
            "\n",
            "         acc       0.00      0.00      0.00        83\n",
            "        good       0.00      0.00      0.00        11\n",
            "       unacc       0.68      1.00      0.81       235\n",
            "       vgood       0.00      0.00      0.00        17\n",
            "\n",
            "    accuracy                           0.68       346\n",
            "   macro avg       0.17      0.25      0.20       346\n",
            "weighted avg       0.46      0.68      0.55       346\n",
            "\n",
            "\n",
            "Test Classification Report for logistic_regression and encode type frequency:\n",
            "               precision    recall  f1-score   support\n",
            "\n",
            "         acc       0.00      0.00      0.00        83\n",
            "        good       0.00      0.00      0.00        11\n",
            "       unacc       0.68      1.00      0.81       235\n",
            "       vgood       0.00      0.00      0.00        17\n",
            "\n",
            "    accuracy                           0.68       346\n",
            "   macro avg       0.17      0.25      0.20       346\n",
            "weighted avg       0.46      0.68      0.55       346\n",
            "\n",
            "\n",
            "Test Classification Report for svc and encode type frequency:\n",
            "               precision    recall  f1-score   support\n",
            "\n",
            "         acc       0.00      0.00      0.00        83\n",
            "        good       0.00      0.00      0.00        11\n",
            "       unacc       0.68      1.00      0.81       235\n",
            "       vgood       0.00      0.00      0.00        17\n",
            "\n",
            "    accuracy                           0.68       346\n",
            "   macro avg       0.17      0.25      0.20       346\n",
            "weighted avg       0.46      0.68      0.55       346\n",
            "\n"
          ]
        }
      ]
    }
  ]
}