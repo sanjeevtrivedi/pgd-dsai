{
  "nbformat": 4,
  "nbformat_minor": 0,
  "metadata": {
    "colab": {
      "provenance": [],
      "include_colab_link": true
    },
    "kernelspec": {
      "name": "python3",
      "display_name": "Python 3"
    },
    "language_info": {
      "name": "python"
    }
  },
  "cells": [
    {
      "cell_type": "markdown",
      "metadata": {
        "id": "view-in-github",
        "colab_type": "text"
      },
      "source": [
        "<a href=\"https://colab.research.google.com/github/sanjeevtrivedi/pgd-dsai/blob/main/Lecture_12.ipynb\" target=\"_parent\"><img src=\"https://colab.research.google.com/assets/colab-badge.svg\" alt=\"Open In Colab\"/></a>"
      ]
    },
    {
      "cell_type": "markdown",
      "metadata": {
        "id": "62l3gdpZ7V7i"
      },
      "source": [
        "# Clustering with scikit-learn (Digits Dataset)\n",
        "We will use **KMeans** for unsupervised clustering on the Digits dataset.\n",
        "\n",
        "## EDA for Digits Dataset"
      ]
    },
    {
      "cell_type": "code",
      "source": [
        "import matplotlib.pyplot as plt\n",
        "from sklearn.datasets import load_digits\n",
        "from sklearn.cluster import KMeans\n",
        "import pandas as pd"
      ],
      "metadata": {
        "id": "OAeOpWlSjUOP"
      },
      "execution_count": null,
      "outputs": []
    },
    {
      "cell_type": "code",
      "source": [
        "# Load Digits dataset\n",
        "digits = load_digits()\n",
        "X_digits = digits.data  # 64 features (8x8 image pixels)\n",
        "y_digits = digits.target\n",
        "\n",
        "print(\"Digits data shape:\", X_digits.shape)\n",
        "print(\"Digits target shape:\", y_digits.shape)\n",
        "\n",
        "\n"
      ],
      "metadata": {
        "id": "FyAzjqGB2gSr",
        "colab": {
          "base_uri": "https://localhost:8080/"
        },
        "outputId": "0d74a265-98d5-4513-cae8-5445da53f4dd"
      },
      "execution_count": null,
      "outputs": [
        {
          "output_type": "stream",
          "name": "stdout",
          "text": [
            "Digits data shape: (1797, 64)\n",
            "Digits target shape: (1797,)\n"
          ]
        }
      ]
    },
    {
      "cell_type": "code",
      "source": [
        "digits_df = pd.DataFrame(X_digits, columns=[f'feature_{i}' for i in range(X_digits.shape[1])])\n",
        "\n",
        "# Descriptive statistics\n",
        "print(\"\\nDescriptive statistics:\")\n",
        "print(digits_df.describe())\n",
        "\n"
      ],
      "metadata": {
        "id": "AFRhuXQt0szf",
        "colab": {
          "base_uri": "https://localhost:8080/"
        },
        "outputId": "c7878cd5-5f38-4c45-a1f7-3725faa381ac"
      },
      "execution_count": null,
      "outputs": [
        {
          "output_type": "stream",
          "name": "stdout",
          "text": [
            "\n",
            "Descriptive statistics:\n",
            "       feature_0    feature_1    feature_2    feature_3    feature_4  \\\n",
            "count     1797.0  1797.000000  1797.000000  1797.000000  1797.000000   \n",
            "mean         0.0     0.303840     5.204786    11.835838    11.848080   \n",
            "std          0.0     0.907192     4.754826     4.248842     4.287388   \n",
            "min          0.0     0.000000     0.000000     0.000000     0.000000   \n",
            "25%          0.0     0.000000     1.000000    10.000000    10.000000   \n",
            "50%          0.0     0.000000     4.000000    13.000000    13.000000   \n",
            "75%          0.0     0.000000     9.000000    15.000000    15.000000   \n",
            "max          0.0     8.000000    16.000000    16.000000    16.000000   \n",
            "\n",
            "         feature_5    feature_6    feature_7    feature_8    feature_9  ...  \\\n",
            "count  1797.000000  1797.000000  1797.000000  1797.000000  1797.000000  ...   \n",
            "mean      5.781859     1.362270     0.129661     0.005565     1.993879  ...   \n",
            "std       5.666418     3.325775     1.037383     0.094222     3.196160  ...   \n",
            "min       0.000000     0.000000     0.000000     0.000000     0.000000  ...   \n",
            "25%       0.000000     0.000000     0.000000     0.000000     0.000000  ...   \n",
            "50%       4.000000     0.000000     0.000000     0.000000     0.000000  ...   \n",
            "75%      11.000000     0.000000     0.000000     0.000000     3.000000  ...   \n",
            "max      16.000000    16.000000    15.000000     2.000000    16.000000  ...   \n",
            "\n",
            "        feature_54   feature_55   feature_56   feature_57   feature_58  \\\n",
            "count  1797.000000  1797.000000  1797.000000  1797.000000  1797.000000   \n",
            "mean      3.725097     0.206455     0.000556     0.279354     5.557596   \n",
            "std       4.919406     0.984401     0.023590     0.934302     5.103019   \n",
            "min       0.000000     0.000000     0.000000     0.000000     0.000000   \n",
            "25%       0.000000     0.000000     0.000000     0.000000     1.000000   \n",
            "50%       1.000000     0.000000     0.000000     0.000000     4.000000   \n",
            "75%       7.000000     0.000000     0.000000     0.000000    10.000000   \n",
            "max      16.000000    13.000000     1.000000     9.000000    16.000000   \n",
            "\n",
            "        feature_59   feature_60   feature_61   feature_62   feature_63  \n",
            "count  1797.000000  1797.000000  1797.000000  1797.000000  1797.000000  \n",
            "mean     12.089037    11.809126     6.764051     2.067891     0.364496  \n",
            "std       4.374694     4.933947     5.900623     4.090548     1.860122  \n",
            "min       0.000000     0.000000     0.000000     0.000000     0.000000  \n",
            "25%      11.000000    10.000000     0.000000     0.000000     0.000000  \n",
            "50%      13.000000    14.000000     6.000000     0.000000     0.000000  \n",
            "75%      16.000000    16.000000    12.000000     2.000000     0.000000  \n",
            "max      16.000000    16.000000    16.000000    16.000000    16.000000  \n",
            "\n",
            "[8 rows x 64 columns]\n"
          ]
        }
      ]
    },
    {
      "cell_type": "code",
      "source": [
        "# Visualize a few images\n",
        "fig, axes = plt.subplots(1, 5, figsize=(10, 3))\n",
        "for i, ax in enumerate(axes):\n",
        "    ax.imshow(digits.images[i], cmap='gray')\n",
        "    ax.set_title(f\"Digit: {digits.target[i]}\")\n",
        "    ax.axis('off')\n",
        "plt.show()\n",
        "\n"
      ],
      "metadata": {
        "id": "FipDXrJH2KUb",
        "colab": {
          "base_uri": "https://localhost:8080/",
          "height": 192
        },
        "outputId": "f0f9de31-d76e-47de-8d68-6d7de4f196be"
      },
      "execution_count": null,
      "outputs": [
        {
          "output_type": "display_data",
          "data": {
            "text/plain": [
              "<Figure size 1000x300 with 5 Axes>"
            ],
            "image/png": "[encoded data removed]"
          },
          "metadata": {}
        }
      ]
    },
    {
      "cell_type": "code",
      "source": [
        "# Target distribution\n",
        "plt.figure(figsize=(8, 6))\n",
        "plt.hist(y_digits, bins=10, edgecolor='black')\n",
        "plt.title(\"Distribution of Digits\")\n",
        "plt.xlabel(\"Digit\")\n",
        "plt.ylabel(\"Frequency\")\n",
        "plt.show()\n",
        "\n"
      ],
      "metadata": {
        "colab": {
          "base_uri": "https://localhost:8080/",
          "height": 564
        },
        "id": "obrjKloJ3HXG",
        "outputId": "ab8eec40-0ccc-4474-dad0-c097b76d252b"
      },
      "execution_count": null,
      "outputs": [
        {
          "output_type": "display_data",
          "data": {
            "text/plain": [
              "<Figure size 800x600 with 1 Axes>"
            ],
            "image/png": "[encoded data removed]"
          },
          "metadata": {}
        }
      ]
    },
    {
      "cell_type": "markdown",
      "metadata": {
        "id": "Dy6UiWd42K9O"
      },
      "source": [
        "## KMeans Clustering"
      ]
    },
    {
      "cell_type": "code",
      "metadata": {
        "colab": {
          "base_uri": "https://localhost:8080/",
          "height": 447
        },
        "outputId": "d0954969-6e3e-4369-e61a-139d8a762493",
        "id": "Z1LIg3dO2K9P"
      },
      "source": [
        "# Perform KMeans clustering with n_clusters=10\n",
        "kmeans = KMeans(n_clusters=10, random_state=42)\n",
        "kmeans.fit(X_digits)\n",
        "\n",
        "plt.imshow(kmeans.cluster_centers_[3].reshape(8,8))\n",
        "\n",
        "# print(\"Cluster centers shape:\", kmeans.cluster_centers_.shape)\n",
        "# print(\"Inertia (Sum of squared distances):\", kmeans.inertia_)"
      ],
      "execution_count": null,
      "outputs": [
        {
          "output_type": "execute_result",
          "data": {
            "text/plain": [
              "<matplotlib.image.AxesImage at 0x7884e8d23a50>"
            ]
          },
          "metadata": {},
          "execution_count": 6
        },
        {
          "output_type": "display_data",
          "data": {
            "text/plain": [
              "<Figure size 640x480 with 1 Axes>"
            ],
            "image/png": "[encoded data removed]"
          },
          "metadata": {}
        }
      ]
    },
    {
      "cell_type": "code",
      "source": [
        "from sklearn.metrics import normalized_mutual_info_score\n",
        "\n",
        "nmi_score = normalized_mutual_info_score(y_digits, kmeans.labels_)\n",
        "\n",
        "print(f\"Normalized Mutual Information (NMI) Score: {nmi_score}\")\n"
      ],
      "metadata": {
        "colab": {
          "base_uri": "https://localhost:8080/"
        },
        "id": "LZmdzNDu3i3U",
        "outputId": "70c2cd97-24a3-46c8-a7ef-2990adf69910"
      },
      "execution_count": null,
      "outputs": [
        {
          "output_type": "stream",
          "name": "stdout",
          "text": [
            "Normalized Mutual Information (NMI) Score: 0.7749970862895714\n"
          ]
        }
      ]
    },
    {
      "cell_type": "code",
      "source": [],
      "metadata": {
        "id": "3K3BT-JzyefZ"
      },
      "execution_count": null,
      "outputs": []
    }
  ]
}