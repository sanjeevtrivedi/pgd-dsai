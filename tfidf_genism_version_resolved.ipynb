{
  "nbformat": 4,
  "nbformat_minor": 0,
  "metadata": {
    "colab": {
      "provenance": [],
      "include_colab_link": true
    },
    "kernelspec": {
      "name": "python3",
      "display_name": "Python 3"
    },
    "language_info": {
      "name": "python"
    }
  },
  "cells": [
    {
      "cell_type": "markdown",
      "metadata": {
        "id": "view-in-github",
        "colab_type": "text"
      },
      "source": [
        "<a href=\"https://colab.research.google.com/github/sanjeevtrivedi/pgd-dsai/blob/main/tfidf_genism_version_resolved.ipynb\" target=\"_parent\"><img src=\"https://colab.research.google.com/assets/colab-badge.svg\" alt=\"Open In Colab\"/></a>"
      ]
    },
    {
      "cell_type": "code",
      "execution_count": null,
      "metadata": {
        "colab": {
          "base_uri": "https://localhost:8080/"
        },
        "collapsed": true,
        "id": "kWiGgajSDCnV",
        "outputId": "5bc3cc43-799b-419e-e676-dd75b3137a99"
      },
      "outputs": [
        {
          "output_type": "stream",
          "name": "stdout",
          "text": [
            "Collecting gensim\n",
            "  Downloading gensim-4.3.3-cp311-cp311-manylinux_2_17_x86_64.manylinux2014_x86_64.whl.metadata (8.1 kB)\n",
            "Collecting numpy<2.0,>=1.18.5 (from gensim)\n",
            "  Downloading numpy-1.26.4-cp311-cp311-manylinux_2_17_x86_64.manylinux2014_x86_64.whl.metadata (61 kB)\n",
            "\u001b[2K     \u001b[90m━━━━━━━━━━━━━━━━━━━━━━━━━━━━━━━━━━━━━━━━\u001b[0m \u001b[32m61.0/61.0 kB\u001b[0m \u001b[31m1.3 MB/s\u001b[0m eta \u001b[36m0:00:00\u001b[0m\n",
            "\u001b[?25hCollecting scipy<1.14.0,>=1.7.0 (from gensim)\n",
            "  Downloading scipy-1.13.1-cp311-cp311-manylinux_2_17_x86_64.manylinux2014_x86_64.whl.metadata (60 kB)\n",
            "\u001b[2K     \u001b[90m━━━━━━━━━━━━━━━━━━━━━━━━━━━━━━━━━━━━━━━━\u001b[0m \u001b[32m60.6/60.6 kB\u001b[0m \u001b[31m2.2 MB/s\u001b[0m eta \u001b[36m0:00:00\u001b[0m\n",
            "\u001b[?25hRequirement already satisfied: smart-open>=1.8.1 in /usr/local/lib/python3.11/dist-packages (from gensim) (7.1.0)\n",
            "Requirement already satisfied: wrapt in /usr/local/lib/python3.11/dist-packages (from smart-open>=1.8.1->gensim) (1.17.2)\n",
            "Downloading gensim-4.3.3-cp311-cp311-manylinux_2_17_x86_64.manylinux2014_x86_64.whl (26.7 MB)\n",
            "\u001b[2K   \u001b[90m━━━━━━━━━━━━━━━━━━━━━━━━━━━━━━━━━━━━━━━━\u001b[0m \u001b[32m26.7/26.7 MB\u001b[0m \u001b[31m37.4 MB/s\u001b[0m eta \u001b[36m0:00:00\u001b[0m\n",
            "\u001b[?25hDownloading numpy-1.26.4-cp311-cp311-manylinux_2_17_x86_64.manylinux2014_x86_64.whl (18.3 MB)\n",
            "\u001b[2K   \u001b[90m━━━━━━━━━━━━━━━━━━━━━━━━━━━━━━━━━━━━━━━━\u001b[0m \u001b[32m18.3/18.3 MB\u001b[0m \u001b[31m43.3 MB/s\u001b[0m eta \u001b[36m0:00:00\u001b[0m\n",
            "\u001b[?25hDownloading scipy-1.13.1-cp311-cp311-manylinux_2_17_x86_64.manylinux2014_x86_64.whl (38.6 MB)\n",
            "\u001b[2K   \u001b[90m━━━━━━━━━━━━━━━━━━━━━━━━━━━━━━━━━━━━━━━━\u001b[0m \u001b[32m38.6/38.6 MB\u001b[0m \u001b[31m15.0 MB/s\u001b[0m eta \u001b[36m0:00:00\u001b[0m\n",
            "\u001b[?25hInstalling collected packages: numpy, scipy, gensim\n",
            "  Attempting uninstall: numpy\n",
            "    Found existing installation: numpy 2.0.2\n",
            "    Uninstalling numpy-2.0.2:\n",
            "      Successfully uninstalled numpy-2.0.2\n",
            "  Attempting uninstall: scipy\n",
            "    Found existing installation: scipy 1.15.2\n",
            "    Uninstalling scipy-1.15.2:\n",
            "      Successfully uninstalled scipy-1.15.2\n",
            "\u001b[31mERROR: pip's dependency resolver does not currently take into account all the packages that are installed. This behaviour is the source of the following dependency conflicts.\n",
            "thinc 8.3.6 requires numpy<3.0.0,>=2.0.0, but you have numpy 1.26.4 which is incompatible.\u001b[0m\u001b[31m\n",
            "\u001b[0mSuccessfully installed gensim-4.3.3 numpy-1.26.4 scipy-1.13.1\n"
          ]
        }
      ],
      "source": [
        "! pip install gensim"
      ]
    },
    {
      "cell_type": "code",
      "source": [
        "! pip install --upgrade numpy\n",
        "!pip install --upgrade scipy gensim\n",
        "import gensim\n",
        "from gensim import corpora\n",
        "from pprint import pprint"
      ],
      "metadata": {
        "colab": {
          "base_uri": "https://localhost:8080/"
        },
        "collapsed": true,
        "id": "leCHxfZeDXFG",
        "outputId": "da2ec830-0f06-4f03-fc96-16e9f4c94ad8"
      },
      "execution_count": null,
      "outputs": [
        {
          "output_type": "stream",
          "name": "stdout",
          "text": [
            "Requirement already satisfied: numpy in /usr/local/lib/python3.11/dist-packages (1.26.4)\n",
            "Collecting numpy\n",
            "  Using cached numpy-2.2.5-cp311-cp311-manylinux_2_17_x86_64.manylinux2014_x86_64.whl.metadata (62 kB)\n",
            "Using cached numpy-2.2.5-cp311-cp311-manylinux_2_17_x86_64.manylinux2014_x86_64.whl (16.4 MB)\n",
            "Installing collected packages: numpy\n",
            "  Attempting uninstall: numpy\n",
            "    Found existing installation: numpy 1.26.4\n",
            "    Uninstalling numpy-1.26.4:\n",
            "      Successfully uninstalled numpy-1.26.4\n",
            "\u001b[31mERROR: pip's dependency resolver does not currently take into account all the packages that are installed. This behaviour is the source of the following dependency conflicts.\n",
            "gensim 4.3.3 requires numpy<2.0,>=1.18.5, but you have numpy 2.2.5 which is incompatible.\n",
            "numba 0.60.0 requires numpy<2.1,>=1.22, but you have numpy 2.2.5 which is incompatible.\n",
            "tensorflow 2.18.0 requires numpy<2.1.0,>=1.26.0, but you have numpy 2.2.5 which is incompatible.\u001b[0m\u001b[31m\n",
            "\u001b[0mSuccessfully installed numpy-2.2.5\n",
            "Requirement already satisfied: scipy in /usr/local/lib/python3.11/dist-packages (1.13.1)\n",
            "Collecting scipy\n",
            "  Using cached scipy-1.15.3-cp311-cp311-manylinux_2_17_x86_64.manylinux2014_x86_64.whl.metadata (61 kB)\n",
            "Requirement already satisfied: gensim in /usr/local/lib/python3.11/dist-packages (4.3.3)\n",
            "Requirement already satisfied: numpy<2.5,>=1.23.5 in /usr/local/lib/python3.11/dist-packages (from scipy) (2.2.5)\n",
            "Collecting numpy<2.5,>=1.23.5 (from scipy)\n",
            "  Using cached numpy-1.26.4-cp311-cp311-manylinux_2_17_x86_64.manylinux2014_x86_64.whl.metadata (61 kB)\n",
            "Requirement already satisfied: smart-open>=1.8.1 in /usr/local/lib/python3.11/dist-packages (from gensim) (7.1.0)\n",
            "Requirement already satisfied: wrapt in /usr/local/lib/python3.11/dist-packages (from smart-open>=1.8.1->gensim) (1.17.2)\n",
            "Using cached numpy-1.26.4-cp311-cp311-manylinux_2_17_x86_64.manylinux2014_x86_64.whl (18.3 MB)\n",
            "Installing collected packages: numpy\n",
            "  Attempting uninstall: numpy\n",
            "    Found existing installation: numpy 2.2.5\n",
            "    Uninstalling numpy-2.2.5:\n",
            "      Successfully uninstalled numpy-2.2.5\n",
            "\u001b[31mERROR: pip's dependency resolver does not currently take into account all the packages that are installed. This behaviour is the source of the following dependency conflicts.\n",
            "thinc 8.3.6 requires numpy<3.0.0,>=2.0.0, but you have numpy 1.26.4 which is incompatible.\u001b[0m\u001b[31m\n",
            "\u001b[0mSuccessfully installed numpy-1.26.4\n"
          ]
        }
      ]
    },
    {
      "cell_type": "code",
      "source": [
        "text = [\n",
        "   \"Gensim is an open-source library for  \",\n",
        "   \"unsupervised topic modeling and\",\n",
        "   \"natural language processing.\"\n",
        "]\n",
        "# get the seperate words\n",
        "text_tokens = [[tok for tok in doc.split()] for doc in text]\n",
        "# create dictionary\n",
        "dict_ = corpora.Dictionary(text_tokens)\n",
        "# get the tkens and ids\n",
        "pprint(dict_.token2id)"
      ],
      "metadata": {
        "colab": {
          "base_uri": "https://localhost:8080/"
        },
        "id": "dDggIRkSELwA",
        "outputId": "ce8734b8-03f6-469f-9723-707f0d4bf23b"
      },
      "execution_count": null,
      "outputs": [
        {
          "output_type": "stream",
          "name": "stdout",
          "text": [
            "{'Gensim': 0,\n",
            " 'an': 1,\n",
            " 'and': 6,\n",
            " 'for': 2,\n",
            " 'is': 3,\n",
            " 'language': 10,\n",
            " 'library': 4,\n",
            " 'modeling': 7,\n",
            " 'natural': 11,\n",
            " 'open-source': 5,\n",
            " 'processing.': 12,\n",
            " 'topic': 8,\n",
            " 'unsupervised': 9}\n"
          ]
        }
      ]
    },
    {
      "cell_type": "code",
      "source": [
        "# tokens\n",
        "text_tokens = [[tok for tok in doc.split()] for doc in text]\n",
        "# create dict\n",
        "dict_ = corpora.Dictionary()\n",
        "#BOW\n",
        "BoW_corpus = [dict_.doc2bow(doc, allow_update=True) for doc in text_tokens]\n",
        "pprint(BoW_corpus)"
      ],
      "metadata": {
        "colab": {
          "base_uri": "https://localhost:8080/"
        },
        "id": "xS9OtzlFENhB",
        "outputId": "db708928-5dac-479c-cd26-fbc8cbf5065f"
      },
      "execution_count": null,
      "outputs": [
        {
          "output_type": "stream",
          "name": "stdout",
          "text": [
            "[[(0, 1), (1, 1), (2, 1), (3, 1), (4, 1), (5, 1)],\n",
            " [(6, 1), (7, 1), (8, 1), (9, 1)],\n",
            " [(10, 1), (11, 1), (12, 1)]]\n"
          ]
        }
      ]
    },
    {
      "cell_type": "code",
      "source": [
        "id_words = [[(dict_[id], count) for id, count in line] for line in BoW_corpus]\n",
        "pprint(id_words)"
      ],
      "metadata": {
        "colab": {
          "base_uri": "https://localhost:8080/"
        },
        "id": "3x9OGrAsERFV",
        "outputId": "0815bd13-0c64-46de-cf19-bf00dd5a6e19"
      },
      "execution_count": null,
      "outputs": [
        {
          "output_type": "stream",
          "name": "stdout",
          "text": [
            "[[('Gensim', 1),\n",
            "  ('an', 1),\n",
            "  ('for', 1),\n",
            "  ('is', 1),\n",
            "  ('library', 1),\n",
            "  ('open-source', 1)],\n",
            " [('and', 1), ('modeling', 1), ('topic', 1), ('unsupervised', 1)],\n",
            " [('language', 1), ('natural', 1), ('processing.', 1)]]\n"
          ]
        }
      ]
    },
    {
      "cell_type": "code",
      "source": [
        "import warnings\n",
        "warnings.filterwarnings('ignore')"
      ],
      "metadata": {
        "id": "ZsHnu0K3EaNx"
      },
      "execution_count": null,
      "outputs": []
    },
    {
      "cell_type": "code",
      "source": [
        "from gensim.models.phrases import Phrases"
      ],
      "metadata": {
        "id": "FZJDrKG9Ebhj"
      },
      "execution_count": null,
      "outputs": []
    },
    {
      "cell_type": "code",
      "source": [
        "# Build the bigram models\n",
        "bigram = gensim.models.phrases.Phrases(text_tokens, min_count=3, threshold=10)\n",
        "#Construct bigram\n",
        "pprint(bigram[text_tokens[0]])"
      ],
      "metadata": {
        "colab": {
          "base_uri": "https://localhost:8080/"
        },
        "id": "hu76wXrGEgon",
        "outputId": "b005ad47-a084-45bd-aec0-0bc95a18983b"
      },
      "execution_count": null,
      "outputs": [
        {
          "output_type": "stream",
          "name": "stdout",
          "text": [
            "['Gensim', 'is', 'an', 'open-source', 'library', 'for']\n"
          ]
        }
      ]
    },
    {
      "cell_type": "code",
      "source": [
        "from gensim.utils import simple_preprocess\n",
        "from gensim import models\n",
        "import numpy as np\n",
        "# data to be processed\n",
        "doc = [\n",
        "   \"Gensim is an open-source library for  \",\n",
        "   \"unsupervised topic modeling and\",\n",
        "   \"natural language processing.\"]\n",
        "\n",
        "# Create the Dictionary and Corpus\n",
        "mydict = corpora.Dictionary([simple_preprocess(line) for line in doc])\n",
        "corpus = [mydict.doc2bow(simple_preprocess(line)) for line in doc]\n",
        "\n",
        "# Show the Word Weights in Corpus\n",
        "for doc in corpus:\n",
        "    print([[mydict[id], freq] for id, freq in doc])"
      ],
      "metadata": {
        "colab": {
          "base_uri": "https://localhost:8080/"
        },
        "id": "5rCEjXEtEmAt",
        "outputId": "db9f55e5-da8f-4cb8-8e81-8c38b54cf27b"
      },
      "execution_count": null,
      "outputs": [
        {
          "output_type": "stream",
          "name": "stdout",
          "text": [
            "[['an', 1], ['for', 1], ['gensim', 1], ['is', 1], ['library', 1], ['open', 1], ['source', 1]]\n",
            "[['and', 1], ['modeling', 1], ['topic', 1], ['unsupervised', 1]]\n",
            "[['language', 1], ['natural', 1], ['processing', 1]]\n"
          ]
        }
      ]
    },
    {
      "cell_type": "code",
      "source": [
        "# Create the TF-IDF model\n",
        "tfidf = models.TfidfModel(corpus, smartirs='ntc')\n",
        "\n",
        "# Show the TF-IDF weights\n",
        "for doc in tfidf[corpus]:\n",
        "    print([[mydict[id], np.around(freq, decimals=2)] for id, freq in doc])"
      ],
      "metadata": {
        "colab": {
          "base_uri": "https://localhost:8080/"
        },
        "id": "JI-CbyYbEoso",
        "outputId": "c31c4c62-6675-4749-e7bd-d6e84fcbd0ff"
      },
      "execution_count": null,
      "outputs": [
        {
          "output_type": "stream",
          "name": "stdout",
          "text": [
            "[['an', 0.38], ['for', 0.38], ['gensim', 0.38], ['is', 0.38], ['library', 0.38], ['open', 0.38], ['source', 0.38]]\n",
            "[['and', 0.5], ['modeling', 0.5], ['topic', 0.5], ['unsupervised', 0.5]]\n",
            "[['language', 0.58], ['natural', 0.58], ['processing', 0.58]]\n"
          ]
        }
      ]
    }
  ]
}