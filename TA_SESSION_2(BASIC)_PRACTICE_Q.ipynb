{
  "nbformat": 4,
  "nbformat_minor": 0,
  "metadata": {
    "colab": {
      "provenance": [],
      "include_colab_link": true
    },
    "kernelspec": {
      "name": "python3",
      "display_name": "Python 3"
    },
    "language_info": {
      "name": "python"
    }
  },
  "cells": [
    {
      "cell_type": "markdown",
      "metadata": {
        "id": "view-in-github",
        "colab_type": "text"
      },
      "source": [
        "<a href=\"https://colab.research.google.com/github/sanjeevtrivedi/pgd-dsai/blob/main/TA_SESSION_2(BASIC)_PRACTICE_Q.ipynb\" target=\"_parent\"><img src=\"https://colab.research.google.com/assets/colab-badge.svg\" alt=\"Open In Colab\"/></a>"
      ]
    },
    {
      "cell_type": "markdown",
      "source": [
        "## Q1. Text Processing for Customer Reviews:\n",
        "\n",
        "###Description:\n",
        "You are given a dataset of customer reviews for a product.\n",
        "\n",
        "Each review needs to be preprocessed before basic sentiment analysis.\n",
        "\n",
        "Write a program that processes these reviews and formats them in a clean tabulated structure.\n",
        "\n",
        "###Input:\n",
        "The first line contains N, total number of reviews. The following N lines contain customer reviews in this format: \"ReviewID###Review_texttimestamp@@@rating\" where ### @@@ are separators between different components.\n",
        "\n",
        "## TRY YOURSELF FIRST THEN LOOK AT THE SOLUTION!!!\n"
      ],
      "metadata": {
        "id": "FIn0wGWj03KW"
      }
    },
    {
      "cell_type": "code",
      "source": [
        "# example input:\n",
        "\n",
        "product_list = [\n",
        "    \"P001###Laptop 15.6 inch@@@45000$$$10\",\n",
        "    \"P002###   Wireless Mouse@@@1500$$$50\",\n",
        "    \"P003###Mechanical Keyboard@@@3200$$$20\"\n",
        "]\n"
      ],
      "metadata": {
        "id": "CTozeaT1z-wO"
      },
      "execution_count": null,
      "outputs": []
    },
    {
      "cell_type": "markdown",
      "source": [
        "### EXPECTED OUTPUT:\n",
        "\n",
        "| Product ID | Product Name        | Price  | Stock |\n",
        "|----------- |---------------------|--------|-------|\n",
        "| P001       | laptop 15.6 inch    | 45000  | 10    |\n",
        "| P002       | wireless mouse      | 1500   | 50    |\n",
        "| P003       | mechanical keyboard | 3200   | 20    |"
      ],
      "metadata": {
        "id": "ZGeNEP0gDfsC"
      }
    },
    {
      "cell_type": "markdown",
      "source": [
        "### Q1. SOLUTION:"
      ],
      "metadata": {
        "id": "v2nAluMNDnKp"
      }
    },
    {
      "cell_type": "code",
      "execution_count": null,
      "metadata": {
        "colab": {
          "base_uri": "https://localhost:8080/"
        },
        "id": "eemsttQJ0YVW",
        "outputId": "c8181967-4f9b-4bbe-b92c-4f792e585f47"
      },
      "outputs": [
        {
          "output_type": "stream",
          "name": "stdout",
          "text": [
            "| Product ID | Product Name        | Price  | Stock |\n",
            "|----------- |---------------------|--------|-------|\n",
            "| P001       | laptop 15.6 inch    | 45000  | 10    |\n",
            "| P002       | wireless mouse      | 1500   | 50    |\n",
            "| P003       | mechanical keyboard | 3200   | 20    |\n"
          ]
        }
      ],
      "source": [
        "# Function to process product descriptions\n",
        "def process_products(n, product_list):\n",
        "    print(\"| Product ID | Product Name        | Price  | Stock |\")\n",
        "    print(\"|----------- |---------------------|--------|-------|\")\n",
        "\n",
        "    for product in product_list:\n",
        "        # Splitting using the given separators\n",
        "        product_id, rest = product.split(\"###\")\n",
        "        product_name, rest = rest.split(\"@@@\")\n",
        "        price, stock = rest.split(\"$$$\")\n",
        "\n",
        "        # Cleaning product name: removing extra spaces and converting to lowercase\n",
        "        product_name = product_name.strip().lower()\n",
        "\n",
        "        # Formatting and printing the output\n",
        "        print(f\"| {product_id:<10} | {product_name:<19} | {price:<6} | {stock:<5} |\") # change around the values to play around table output format ;)\n",
        "\n",
        "# Example input\n",
        "n = 3\n",
        "product_list = [\n",
        "    \"P001###Laptop 15.6 inch@@@45000$$$10\",\n",
        "    \"P002###   Wireless Mouse@@@1500$$$50\",\n",
        "    \"P003###Mechanical Keyboard@@@3200$$$20\"\n",
        "]\n",
        "\n",
        "# Calling the function\n",
        "process_products(n, product_list)\n"
      ]
    },
    {
      "cell_type": "markdown",
      "source": [
        "# Q2. Movie Ratings Processing\n",
        "\n",
        "###Description:\n",
        "You are given a list of movies with their ratings. wihout using dictionaries do the following task as explained below.\n",
        "\n",
        "#### *example input:*\n",
        "Inception - 6\n",
        "Titanic - 8\n",
        "Avengers - 7\n",
        "Frozen - 6\n",
        "Joker - 9\n",
        "### Your task is to:\n",
        "\n",
        "Extract movie names and ratings from the given data.\n",
        "Convert ratings from strings to integers.\n",
        "Find the highest-rated movie.\n",
        "Create a list of movies with ratings above a certain threshold (e.g., 7).\n",
        "\n",
        "\n",
        "## TRY YOURSELF FIRST THEN LOOK AT THE SOLUTION!!!\n"
      ],
      "metadata": {
        "id": "EPiUDeOy-WoU"
      }
    },
    {
      "cell_type": "code",
      "source": [
        "# Function to process movie ratings\n",
        "def process_movies(n, movie_data):\n",
        "    movies = []  # List to store movie names\n",
        "    ratings = []  # List to store ratings\n",
        "\n",
        "    # Processing each movie record\n",
        "    for record in movie_data:\n",
        "        parts = record.split(\" - \")  # Splitting movie name and rating\n",
        "        movie_name = parts[0].strip()  # Cleaning movie name\n",
        "        rating = int(parts[1].strip())  # Converting rating to integer\n",
        "\n",
        "        movies.append(movie_name)  # Storing movie name\n",
        "        ratings.append(rating)  # Storing rating\n",
        "\n",
        "    # Finding the highest-rated movie\n",
        "    max_rating = max(ratings)  # Maximum rating value\n",
        "    highest_movie = movies[ratings.index(max_rating)]  # Finding corresponding movie\n",
        "\n",
        "    # Creating a list of movies with rating 7 or above\n",
        "    good_movies = []\n",
        "    for i in range(n):\n",
        "        if ratings[i] >= 7:\n",
        "            good_movies.append(movies[i])\n",
        "\n",
        "    # Printing results\n",
        "    print(\"All Movies:\", movies)\n",
        "    print(\"Ratings:\", ratings)\n",
        "    print(\"\\nHighest Rated Movie:\", highest_movie, f\"({max_rating})\")\n",
        "    print(\"\\nMovies with Rating 7 or above:\", good_movies)\n",
        "\n",
        "\n",
        "# Example Input\n",
        "n = 5\n",
        "movie_data = [\n",
        "    \"Inception - 6\",\n",
        "    \"Titanic - 8\",\n",
        "    \"Avengers - 7\",\n",
        "    \"Frozen - 6\",\n",
        "    \"Joker - 9\"\n",
        "]\n",
        "\n",
        "# Calling the function\n",
        "process_movies(n, movie_data)\n"
      ],
      "metadata": {
        "colab": {
          "base_uri": "https://localhost:8080/"
        },
        "id": "GZQ8EPgS-WGB",
        "outputId": "eec2d9b7-258c-419e-9ecc-313e9ab127c2"
      },
      "execution_count": null,
      "outputs": [
        {
          "output_type": "stream",
          "name": "stdout",
          "text": [
            "All Movies: ['Inception', 'Titanic', 'Avengers', 'Frozen', 'Joker']\n",
            "Ratings: [9, 8, 7, 6, 9]\n",
            "\n",
            "Highest Rated Movie: Inception (9)\n",
            "\n",
            "Movies with Rating 7 or above: ['Inception', 'Titanic', 'Avengers', 'Joker']\n"
          ]
        }
      ]
    },
    {
      "cell_type": "markdown",
      "source": [
        "### question! what if multiple movies have the same highest rating? Try to use list iterators and try to print all the highest rated movies."
      ],
      "metadata": {
        "id": "wamRn5mW1jNy"
      }
    },
    {
      "cell_type": "markdown",
      "source": [
        "# Q3. Organize Student Scores Using Dictionary Methods\n",
        "###Description:\n",
        "You are given the scores of three students in a test. Each student's scores are provided as a string in the format:\n",
        "\"StudentName###Math@@Science@@English\".\n",
        "\n",
        "###Your task is to:\n",
        "\n",
        "1. Parse these strings and store the data in a dictionary where the keys are student names and the values are another dictionary of their subject scores.\n",
        "2. Print student names and there respective math scores\n",
        "3. Print student name and there all subject scores\n",
        "\n",
        "## TRY YOURSELF FIRST THEN LOOK AT THE SOLUTION!!!\n"
      ],
      "metadata": {
        "id": "iq9HoAAEJcXk"
      }
    },
    {
      "cell_type": "code",
      "source": [
        "\n",
        "lines = [\n",
        "    \"Alice###85@@90@@88\",\n",
        "    \"Bob###78@@83@@80\",\n",
        "    \"Charlie###92@@88@@91\"\n",
        "]\n",
        "\n",
        "# Step 1: Parse input and store in a dictionary\n",
        "scores_dict = {}\n",
        "for line in lines:\n",
        "    student_name, scores = line.split(\"###\")\n",
        "    math, science, english = map(int, scores.split(\"@@\"))  # int() function is applied to all indivisual elements of the list [scores.split(\"@@\")]\n",
        "    scores_dict[student_name] = {\n",
        "        \"Math\": math,\n",
        "        \"Science\": science,\n",
        "        \"English\": english,\n",
        "    }\n",
        "\n",
        "print(scores_dict)\n",
        "\n",
        "# Step 2: Use dictionary methods\n",
        "# (a) List all student names\n",
        "print(\"Student Names:\", list(scores_dict.keys()))\n",
        "\n",
        "# (b) Display scores for a specific subject (Math)\n",
        "print(\"\\nMath Scores:\")\n",
        "for student, scores in scores_dict.items():\n",
        "    print(f\"{student}: {scores['Math']}\")\n",
        "\n",
        "# (c) Print each student's scores in a readable format\n",
        "print(\"\\nDetailed Scores:\")\n",
        "for student, scores in scores_dict.items():\n",
        "    print(f\"{student}: {scores}\")\n"
      ],
      "metadata": {
        "colab": {
          "base_uri": "https://localhost:8080/"
        },
        "id": "fxv8GoEF0wNU",
        "outputId": "eda7ca9d-cfa9-4e50-c1ac-34b2cff48164"
      },
      "execution_count": null,
      "outputs": [
        {
          "output_type": "stream",
          "name": "stdout",
          "text": [
            "{'Alice': {'Math': 85, 'Science': 90, 'English': 88}, 'Bob': {'Math': 78, 'Science': 83, 'English': 80}, 'Charlie': {'Math': 92, 'Science': 88, 'English': 91}}\n",
            "Student Names: ['Alice', 'Bob', 'Charlie']\n",
            "\n",
            "Math Scores:\n",
            "Alice: 85\n",
            "Bob: 78\n",
            "Charlie: 92\n",
            "\n",
            "Detailed Scores:\n",
            "Alice: {'Math': 85, 'Science': 90, 'English': 88}\n",
            "Bob: {'Math': 78, 'Science': 83, 'English': 80}\n",
            "Charlie: {'Math': 92, 'Science': 88, 'English': 91}\n"
          ]
        }
      ]
    },
    {
      "cell_type": "code",
      "source": [
        "a=\"Alice###85@@90@@88\"\n",
        "student_name, scores = a.split(\"###\")\n",
        "math, science, english = scores.split(\"@@\")\n",
        "print(type(math))\n"
      ],
      "metadata": {
        "colab": {
          "base_uri": "https://localhost:8080/"
        },
        "id": "BadblWeBghII",
        "outputId": "8470156e-c8bf-4fdd-edae-93877e5ebc83"
      },
      "execution_count": null,
      "outputs": [
        {
          "output_type": "stream",
          "name": "stdout",
          "text": [
            "<class 'str'>\n"
          ]
        }
      ]
    },
    {
      "cell_type": "markdown",
      "source": [
        "# **desription** about map function\n",
        "\n",
        "**map()** is a built-in function in Python that applies a given function to all elements in an iterable (like a list or tuple) and returns an iterator with the modified results.\n",
        "\n",
        "map(function, iterable)\n",
        "\n",
        "1. function: The function to apply to each element.\n",
        "---\n",
        "2. iterable: A list, tuple, or other iterable that contains the values to process.\n",
        "---\n"
      ],
      "metadata": {
        "id": "XbfPH4b2sF3i"
      }
    },
    {
      "cell_type": "code",
      "source": [
        "def square(x):\n",
        "    return x ** 2\n",
        "\n",
        "numbers = [1, 2, 3, 4]\n",
        "squared_numbers = map(square, numbers)\n",
        "print(list(squared_numbers))\n",
        "# Output: [1, 4, 9, 16]\n"
      ],
      "metadata": {
        "colab": {
          "base_uri": "https://localhost:8080/"
        },
        "id": "Ak3ENNm_tL_g",
        "outputId": "73c25a69-2296-448e-bcae-eaa22210dada"
      },
      "execution_count": null,
      "outputs": [
        {
          "output_type": "stream",
          "name": "stdout",
          "text": [
            "[1, 4, 9, 16]\n"
          ]
        }
      ]
    },
    {
      "cell_type": "markdown",
      "source": [
        "1. map(square, numbers) applies the square() function to each element of numbers.\n",
        "----\n",
        "2. map() does not immediately return a list; it returns an iterator that generates the squared values one by one when needed.\n",
        "----"
      ],
      "metadata": {
        "id": "upFLGn1GtTCM"
      }
    },
    {
      "cell_type": "markdown",
      "source": [
        "\n",
        "\n",
        " ## Q4. Set Operations for Student Clubs\n",
        " ### Description:\n",
        " You are given the membership lists of three student clubs: Math Club, Science Club, and English Club. Each list contains the names of students enrolled in the respective clubs.  Your task is to perform various set operations to find students who are members of specific combinations of clubs.\n",
        "\n",
        " ### Input:\n",
        " Each line represents the membership list of a club, with student names separated by commas.\n",
        "\n",
        " ### Output:\n",
        " Using the given club memberships, answer the following questions:\n",
        "\n",
        " Find the students who are part of all three clubs.\n",
        "\n",
        " Identify the students who are in either Math or Science Club (or both).\n",
        "\n",
        " List the students who are in Math Club but not in Science Club.\n",
        "\n",
        " Identify the students who are in Math or Science Club, but not both.\n",
        "\n",
        " Provide the final list of students for each case.\n",
        "\n",
        "# Example Input:\n",
        "1. Math Club members: Alice,Bob,Charlie,David\n",
        "---\n",
        "2. Science Club members: Bob,Eve,Charlie,Grace\n",
        "---\n",
        "3. English Club members: Alice,Frank,David,Grace\n",
        "---"
      ],
      "metadata": {
        "id": "jgxb32AdMU5s"
      }
    },
    {
      "cell_type": "code",
      "source": [
        "\n",
        "\n",
        "# Function to process student clubs and apply set operations\n",
        "def process_clubs(math_club, science_club, english_club):\n",
        "    # Convert the input strings to sets\n",
        "    math_set = set(math_club.split(','))\n",
        "    science_set = set(science_club.split(','))\n",
        "    english_set = set(english_club.split(','))\n",
        "\n",
        "    # Perform set operations\n",
        "    # 1. Students in all three clubs\n",
        "    all_clubs = math_set.intersection(science_set, english_set)\n",
        "\n",
        "    # 2. Students in either Math or Science Club\n",
        "    math_or_science = math_set.union(science_set)\n",
        "\n",
        "    # 3. Students in Math Club but not in Science Club\n",
        "    math_not_science = math_set.difference(science_set)\n",
        "\n",
        "    # 4. Students in Math or Science but not both\n",
        "    math_xor_science = math_set.symmetric_difference(science_set)\n",
        "\n",
        "    #Print results\n",
        "    print(\"Students in all three clubs:\", all_clubs)\n",
        "    print(\"\\nStudents in either Math or Science Club:\", math_or_science)\n",
        "    print(\"\\nStudents in Math Club but not in Science Club:\", math_not_science)\n",
        "    print(\"\\nStudents in Math or Science Club but not both:\", math_xor_science)\n",
        "\n",
        "# Example input (can be replaced with user input)\n",
        "math_club_members = \"Alice,Bob,Charlie,David\"\n",
        "science_club_members = \"Bob,Eve,Charlie,Grace\"\n",
        "english_club_members = \"Alice,Frank,David,Grace\"\n",
        "\n",
        "\n",
        "# Calling the function\n",
        "process_clubs(math_club_members, science_club_members, english_club_members)\n"
      ],
      "metadata": {
        "colab": {
          "base_uri": "https://localhost:8080/"
        },
        "id": "1ED2G7rVMDIF",
        "outputId": "289b1425-d9f1-4fcc-9b4a-07123b493599"
      },
      "execution_count": null,
      "outputs": [
        {
          "output_type": "stream",
          "name": "stdout",
          "text": [
            "Students in all three clubs: set()\n",
            "\n",
            "Students in either Math or Science Club: {'Charlie', 'Bob', 'Alice', 'David', 'Grace', 'Eve'}\n",
            "\n",
            "Students in Math Club but not in Science Club: {'Alice', 'David'}\n",
            "\n",
            "Students in Math or Science Club but not both: {'Alice', 'David', 'Grace', 'Eve'}\n"
          ]
        }
      ]
    }
  ]
}